{
 "cells": [
  {
   "cell_type": "code",
   "execution_count": 1,
   "metadata": {},
   "outputs": [],
   "source": [
    "# Load in libraries\n",
    "\n",
    "import warnings\n",
    "warnings.filterwarnings('ignore')\n",
    "import os\n",
    "\n",
    "#libraries for handling data\n",
    "import pandas as pd\n",
    "import numpy as np\n",
    "import math\n",
    "from sklearn import preprocessing\n",
    "from sklearn.preprocessing import StandardScaler\n",
    "scaler = StandardScaler()\n",
    "from sklearn.preprocessing import MinMaxScaler\n",
    "mmscaler = MinMaxScaler()\n",
    "from sklearn.preprocessing import RobustScaler\n",
    "rscaler = RobustScaler()\n",
    "from sklearn.model_selection import train_test_split, cross_val_score\n",
    "from sklearn.metrics import r2_score, mean_squared_error\n",
    "import datetime\n",
    "from datetime import datetime, time\n",
    "\n",
    "#libraries for data visualization\n",
    "import matplotlib as mpl\n",
    "import matplotlib.pyplot as plt\n",
    "%matplotlib inline\n",
    "import matplotlib.pylab as pylab\n",
    "import seaborn as sns\n",
    "\n",
    "#libaries for modelling\n",
    "# Regression Modelling Algorithms\n",
    "import statsmodels.api as sm\n",
    "#from sklearn.tree import DecisionTreeClassifier\n",
    "from sklearn.linear_model import LinearRegression\n",
    "from sklearn.naive_bayes import GaussianNB\n",
    "from sklearn.svm import SVR\n",
    "from sklearn.ensemble import RandomForestRegressor , GradientBoostingRegressor"
   ]
  },
  {
   "cell_type": "code",
   "execution_count": 2,
   "metadata": {},
   "outputs": [],
   "source": [
    "data_folder = 'C:/Users/reejung/Documents/GitHub/Kaggle - careerVillage'"
   ]
  },
  {
   "cell_type": "code",
   "execution_count": 3,
   "metadata": {},
   "outputs": [
    {
     "name": "stdout",
     "output_type": "stream",
     "text": [
      ".git\n",
      ".ipynb_checkpoints\n",
      "answers.csv\n",
      "comments.csv\n",
      "emails.csv\n",
      "groups.csv\n",
      "group_memberships.csv\n",
      "Kaggle - Career Village\n",
      "matches.csv\n",
      "professionals.csv\n",
      "questions.csv\n",
      "school_memberships.csv\n",
      "students.csv\n",
      "tags.csv\n",
      "tag_questions.csv\n",
      "tag_users.csv\n"
     ]
    }
   ],
   "source": [
    "for file in os.listdir(data_folder):\n",
    "    print(file)\n",
    "    \n",
    "# print(os.listdir('C:/Users/reejung/Documents/GitHub/Kaggle - careerVillage'))"
   ]
  },
  {
   "cell_type": "code",
   "execution_count": 4,
   "metadata": {},
   "outputs": [],
   "source": [
    "groups = pd.read_csv('C:/Users/reejung/Documents/GitHub/Kaggle - careerVillage/groups.csv')\n",
    "group_memberships = pd.read_csv('C:/Users/reejung/Documents/GitHub/Kaggle - careerVillage/group_memberships.csv')\n",
    "school_memberships = pd.read_csv('C:/Users/reejung/Documents/GitHub/Kaggle - careerVillage/school_memberships.csv')\n",
    "tags = pd.read_csv('C:/Users/reejung/Documents/GitHub/Kaggle - careerVillage/tags.csv')\n",
    "answers = pd.read_csv('C:/Users/reejung/Documents/GitHub/Kaggle - careerVillage/answers.csv/answers.csv')\n",
    "emails = pd.read_csv('C:/Users/reejung/Documents/GitHub/Kaggle - careerVillage/emails.csv/emails.csv')\n",
    "comments = pd.read_csv('C:/Users/reejung/Documents/GitHub/Kaggle - careerVillage/comments.csv/comments.csv')\n",
    "questions = pd.read_csv('C:/Users/reejung/Documents/GitHub/Kaggle - careerVillage/questions.csv')\n",
    "matches = pd.read_csv('C:/Users/reejung/Documents/GitHub/Kaggle - careerVillage/matches.csv')\n",
    "professionals = pd.read_csv('C:/Users/reejung/Documents/GitHub/Kaggle - careerVillage/professionals.csv')\n",
    "students = pd.read_csv('C:/Users/reejung/Documents/GitHub/Kaggle - careerVillage/students.csv/students.csv')\n",
    "tag_questions = pd.read_csv('C:/Users/reejung/Documents/GitHub/Kaggle - careerVillage/tag_questions.csv')\n",
    "tag_users =pd.read_csv('C:/Users/reejung/Documents/GitHub/Kaggle - careerVillage/tag_users.csv')"
   ]
  },
  {
   "cell_type": "code",
   "execution_count": 5,
   "metadata": {},
   "outputs": [],
   "source": [
    "df_list = [answers,comments,emails,group_memberships,groups,matches,professionals,questions,school_memberships,students,tag_questions,tag_users,tags]"
   ]
  },
  {
   "cell_type": "code",
   "execution_count": 6,
   "metadata": {},
   "outputs": [
    {
     "data": {
      "text/plain": [
       "13"
      ]
     },
     "execution_count": 6,
     "metadata": {},
     "output_type": "execute_result"
    }
   ],
   "source": [
    "len(df_list)"
   ]
  },
  {
   "cell_type": "code",
   "execution_count": 7,
   "metadata": {},
   "outputs": [
    {
     "name": "stdout",
     "output_type": "stream",
     "text": [
      "Index(['answers_id', 'answers_author_id', 'answers_question_id',\n",
      "       'answers_date_added', 'answers_body'],\n",
      "      dtype='object')\n",
      "Index(['comments_id', 'comments_author_id', 'comments_parent_content_id',\n",
      "       'comments_date_added', 'comments_body'],\n",
      "      dtype='object')\n",
      "Index(['emails_id', 'emails_recipient_id', 'emails_date_sent',\n",
      "       'emails_frequency_level'],\n",
      "      dtype='object')\n",
      "Index(['group_memberships_group_id', 'group_memberships_user_id'], dtype='object')\n",
      "Index(['groups_id', 'groups_group_type'], dtype='object')\n",
      "Index(['matches_email_id', 'matches_question_id'], dtype='object')\n",
      "Index(['professionals_id', 'professionals_location', 'professionals_industry',\n",
      "       'professionals_headline', 'professionals_date_joined'],\n",
      "      dtype='object')\n",
      "Index(['questions_id', 'questions_author_id', 'questions_date_added',\n",
      "       'questions_title', 'questions_body'],\n",
      "      dtype='object')\n",
      "Index(['school_memberships_school_id', 'school_memberships_user_id'], dtype='object')\n",
      "Index(['students_id', 'students_location', 'students_date_joined'], dtype='object')\n",
      "Index(['tag_questions_tag_id', 'tag_questions_question_id'], dtype='object')\n",
      "Index(['tag_users_tag_id', 'tag_users_user_id'], dtype='object')\n",
      "Index(['tags_tag_id', 'tags_tag_name'], dtype='object')\n"
     ]
    }
   ],
   "source": [
    "for table in df_list:\n",
    "    print(table.columns)"
   ]
  },
  {
   "cell_type": "code",
   "execution_count": 8,
   "metadata": {},
   "outputs": [],
   "source": [
    "def get_meta_info_about_columns_and_tables(df_arr, df_name_arr):\n",
    "    tables = []\n",
    "    columns = []\n",
    "    for df, name in zip(df_arr, df_name_arr):\n",
    "        columns.extend(df.columns.values)\n",
    "        tables.extend([name] * len(df.columns))\n",
    "    return pd.DataFrame({'table': tables, 'column': columns})"
   ]
  },
  {
   "cell_type": "code",
   "execution_count": 9,
   "metadata": {},
   "outputs": [],
   "source": [
    "tables_columns_info = get_meta_info_about_columns_and_tables(\n",
    "    [\n",
    "        professionals,\n",
    "        tag_users,\n",
    "        students,\n",
    "        tag_questions,\n",
    "        groups,\n",
    "        emails,\n",
    "        group_memberships,\n",
    "        answers,\n",
    "        comments,\n",
    "        matches,\n",
    "        tags,\n",
    "        questions,\n",
    "        school_memberships\n",
    "    ],\n",
    "    [\n",
    "        'professionals',\n",
    "        'tag_users',\n",
    "        'students',\n",
    "        'tag_questions',\n",
    "        'groups',\n",
    "        'emails',\n",
    "        'group_memberships',\n",
    "        'answers',\n",
    "        'comments',\n",
    "        'matches',\n",
    "        'tags',\n",
    "        'questions',\n",
    "        'school_memberships'\n",
    "    ]\n",
    ")"
   ]
  },
  {
   "cell_type": "code",
   "execution_count": 10,
   "metadata": {},
   "outputs": [
    {
     "data": {
      "text/html": [
       "<div>\n",
       "<style scoped>\n",
       "    .dataframe tbody tr th:only-of-type {\n",
       "        vertical-align: middle;\n",
       "    }\n",
       "\n",
       "    .dataframe tbody tr th {\n",
       "        vertical-align: top;\n",
       "    }\n",
       "\n",
       "    .dataframe thead th {\n",
       "        text-align: right;\n",
       "    }\n",
       "</style>\n",
       "<table border=\"1\" class=\"dataframe\">\n",
       "  <thead>\n",
       "    <tr style=\"text-align: right;\">\n",
       "      <th></th>\n",
       "      <th>table</th>\n",
       "      <th>column</th>\n",
       "    </tr>\n",
       "  </thead>\n",
       "  <tbody>\n",
       "    <tr>\n",
       "      <th>0</th>\n",
       "      <td>professionals</td>\n",
       "      <td>professionals_id</td>\n",
       "    </tr>\n",
       "    <tr>\n",
       "      <th>1</th>\n",
       "      <td>professionals</td>\n",
       "      <td>professionals_location</td>\n",
       "    </tr>\n",
       "    <tr>\n",
       "      <th>2</th>\n",
       "      <td>professionals</td>\n",
       "      <td>professionals_industry</td>\n",
       "    </tr>\n",
       "    <tr>\n",
       "      <th>3</th>\n",
       "      <td>professionals</td>\n",
       "      <td>professionals_headline</td>\n",
       "    </tr>\n",
       "    <tr>\n",
       "      <th>4</th>\n",
       "      <td>professionals</td>\n",
       "      <td>professionals_date_joined</td>\n",
       "    </tr>\n",
       "    <tr>\n",
       "      <th>5</th>\n",
       "      <td>tag_users</td>\n",
       "      <td>tag_users_tag_id</td>\n",
       "    </tr>\n",
       "    <tr>\n",
       "      <th>6</th>\n",
       "      <td>tag_users</td>\n",
       "      <td>tag_users_user_id</td>\n",
       "    </tr>\n",
       "    <tr>\n",
       "      <th>7</th>\n",
       "      <td>students</td>\n",
       "      <td>students_id</td>\n",
       "    </tr>\n",
       "    <tr>\n",
       "      <th>8</th>\n",
       "      <td>students</td>\n",
       "      <td>students_location</td>\n",
       "    </tr>\n",
       "    <tr>\n",
       "      <th>9</th>\n",
       "      <td>students</td>\n",
       "      <td>students_date_joined</td>\n",
       "    </tr>\n",
       "  </tbody>\n",
       "</table>\n",
       "</div>"
      ],
      "text/plain": [
       "           table                     column\n",
       "0  professionals           professionals_id\n",
       "1  professionals     professionals_location\n",
       "2  professionals     professionals_industry\n",
       "3  professionals     professionals_headline\n",
       "4  professionals  professionals_date_joined\n",
       "5      tag_users           tag_users_tag_id\n",
       "6      tag_users          tag_users_user_id\n",
       "7       students                students_id\n",
       "8       students          students_location\n",
       "9       students       students_date_joined"
      ]
     },
     "execution_count": 10,
     "metadata": {},
     "output_type": "execute_result"
    }
   ],
   "source": [
    "tables_columns_info.head(10)"
   ]
  },
  {
   "cell_type": "code",
   "execution_count": 11,
   "metadata": {},
   "outputs": [
    {
     "data": {
      "text/html": [
       "<div>\n",
       "<style scoped>\n",
       "    .dataframe tbody tr th:only-of-type {\n",
       "        vertical-align: middle;\n",
       "    }\n",
       "\n",
       "    .dataframe tbody tr th {\n",
       "        vertical-align: top;\n",
       "    }\n",
       "\n",
       "    .dataframe thead th {\n",
       "        text-align: right;\n",
       "    }\n",
       "</style>\n",
       "<table border=\"1\" class=\"dataframe\">\n",
       "  <thead>\n",
       "    <tr style=\"text-align: right;\">\n",
       "      <th></th>\n",
       "      <th>table</th>\n",
       "      <th>column</th>\n",
       "    </tr>\n",
       "  </thead>\n",
       "  <tbody>\n",
       "    <tr>\n",
       "      <th>7</th>\n",
       "      <td>students</td>\n",
       "      <td>students_id</td>\n",
       "    </tr>\n",
       "    <tr>\n",
       "      <th>8</th>\n",
       "      <td>students</td>\n",
       "      <td>students_location</td>\n",
       "    </tr>\n",
       "    <tr>\n",
       "      <th>9</th>\n",
       "      <td>students</td>\n",
       "      <td>students_date_joined</td>\n",
       "    </tr>\n",
       "  </tbody>\n",
       "</table>\n",
       "</div>"
      ],
      "text/plain": [
       "      table                column\n",
       "7  students           students_id\n",
       "8  students     students_location\n",
       "9  students  students_date_joined"
      ]
     },
     "execution_count": 11,
     "metadata": {},
     "output_type": "execute_result"
    }
   ],
   "source": [
    "tables_columns_info[tables_columns_info.column.str.contains('student')]"
   ]
  },
  {
   "cell_type": "code",
   "execution_count": null,
   "metadata": {},
   "outputs": [],
   "source": []
  },
  {
   "cell_type": "code",
   "execution_count": 12,
   "metadata": {},
   "outputs": [
    {
     "data": {
      "text/html": [
       "<div>\n",
       "<style scoped>\n",
       "    .dataframe tbody tr th:only-of-type {\n",
       "        vertical-align: middle;\n",
       "    }\n",
       "\n",
       "    .dataframe tbody tr th {\n",
       "        vertical-align: top;\n",
       "    }\n",
       "\n",
       "    .dataframe thead th {\n",
       "        text-align: right;\n",
       "    }\n",
       "</style>\n",
       "<table border=\"1\" class=\"dataframe\">\n",
       "  <thead>\n",
       "    <tr style=\"text-align: right;\">\n",
       "      <th></th>\n",
       "      <th>groups_id</th>\n",
       "      <th>groups_group_type</th>\n",
       "    </tr>\n",
       "  </thead>\n",
       "  <tbody>\n",
       "    <tr>\n",
       "      <th>0</th>\n",
       "      <td>eabbdf4029734c848a9da20779637d03</td>\n",
       "      <td>youth program</td>\n",
       "    </tr>\n",
       "    <tr>\n",
       "      <th>1</th>\n",
       "      <td>7080bf8dcf78463bb03e6863887fd715</td>\n",
       "      <td>youth program</td>\n",
       "    </tr>\n",
       "    <tr>\n",
       "      <th>2</th>\n",
       "      <td>bc6fc50a2b444efc8ec47111b290ffb8</td>\n",
       "      <td>youth program</td>\n",
       "    </tr>\n",
       "  </tbody>\n",
       "</table>\n",
       "</div>"
      ],
      "text/plain": [
       "                          groups_id groups_group_type\n",
       "0  eabbdf4029734c848a9da20779637d03     youth program\n",
       "1  7080bf8dcf78463bb03e6863887fd715     youth program\n",
       "2  bc6fc50a2b444efc8ec47111b290ffb8     youth program"
      ]
     },
     "execution_count": 12,
     "metadata": {},
     "output_type": "execute_result"
    }
   ],
   "source": [
    "groups.head(3)"
   ]
  },
  {
   "cell_type": "code",
   "execution_count": 13,
   "metadata": {},
   "outputs": [
    {
     "name": "stdout",
     "output_type": "stream",
     "text": [
      "<class 'pandas.core.frame.DataFrame'>\n",
      "RangeIndex: 49 entries, 0 to 48\n",
      "Data columns (total 2 columns):\n",
      "groups_id            49 non-null object\n",
      "groups_group_type    49 non-null object\n",
      "dtypes: object(2)\n",
      "memory usage: 864.0+ bytes\n"
     ]
    }
   ],
   "source": [
    "groups.info()"
   ]
  },
  {
   "cell_type": "code",
   "execution_count": 14,
   "metadata": {},
   "outputs": [
    {
     "data": {
      "text/plain": [
       "groups_id            0\n",
       "groups_group_type    0\n",
       "dtype: int64"
      ]
     },
     "execution_count": 14,
     "metadata": {},
     "output_type": "execute_result"
    }
   ],
   "source": [
    "groups.isnull().sum()"
   ]
  },
  {
   "cell_type": "code",
   "execution_count": 15,
   "metadata": {
    "scrolled": true
   },
   "outputs": [
    {
     "data": {
      "text/html": [
       "<div>\n",
       "<style scoped>\n",
       "    .dataframe tbody tr th:only-of-type {\n",
       "        vertical-align: middle;\n",
       "    }\n",
       "\n",
       "    .dataframe tbody tr th {\n",
       "        vertical-align: top;\n",
       "    }\n",
       "\n",
       "    .dataframe thead th {\n",
       "        text-align: right;\n",
       "    }\n",
       "</style>\n",
       "<table border=\"1\" class=\"dataframe\">\n",
       "  <thead>\n",
       "    <tr style=\"text-align: right;\">\n",
       "      <th></th>\n",
       "      <th>answers_id</th>\n",
       "      <th>answers_author_id</th>\n",
       "      <th>answers_question_id</th>\n",
       "      <th>answers_date_added</th>\n",
       "      <th>answers_body</th>\n",
       "    </tr>\n",
       "  </thead>\n",
       "  <tbody>\n",
       "    <tr>\n",
       "      <th>0</th>\n",
       "      <td>4e5f01128cae4f6d8fd697cec5dca60c</td>\n",
       "      <td>36ff3b3666df400f956f8335cf53e09e</td>\n",
       "      <td>332a511f1569444485cf7a7a556a5e54</td>\n",
       "      <td>2016-04-29 19:40:14 UTC+0000</td>\n",
       "      <td>&lt;p&gt;Hi!&lt;/p&gt;\\n&lt;p&gt;You are asking a very interesti...</td>\n",
       "    </tr>\n",
       "    <tr>\n",
       "      <th>1</th>\n",
       "      <td>ada720538c014e9b8a6dceed09385ee3</td>\n",
       "      <td>2aa47af241bf42a4b874c453f0381bd4</td>\n",
       "      <td>eb80205482e4424cad8f16bc25aa2d9c</td>\n",
       "      <td>2018-05-01 14:19:08 UTC+0000</td>\n",
       "      <td>&lt;p&gt;Hi. I joined the Army after I attended coll...</td>\n",
       "    </tr>\n",
       "    <tr>\n",
       "      <th>2</th>\n",
       "      <td>eaa66ef919bc408ab5296237440e323f</td>\n",
       "      <td>cbd8f30613a849bf918aed5c010340be</td>\n",
       "      <td>eb80205482e4424cad8f16bc25aa2d9c</td>\n",
       "      <td>2018-05-02 02:41:02 UTC+0000</td>\n",
       "      <td>&lt;p&gt;Dear Priyanka,&lt;/p&gt;&lt;p&gt;Greetings! I have answ...</td>\n",
       "    </tr>\n",
       "    <tr>\n",
       "      <th>3</th>\n",
       "      <td>1a6b3749d391486c9e371fbd1e605014</td>\n",
       "      <td>7e72a630c303442ba92ff00e8ea451df</td>\n",
       "      <td>4ec31632938a40b98909416bdd0decff</td>\n",
       "      <td>2017-05-10 19:00:47 UTC+0000</td>\n",
       "      <td>&lt;p&gt;I work for a global company who values high...</td>\n",
       "    </tr>\n",
       "    <tr>\n",
       "      <th>4</th>\n",
       "      <td>5229c514000446d582050f89ebd4e184</td>\n",
       "      <td>17802d94699140b0a0d2995f30c034c6</td>\n",
       "      <td>2f6a9a99d9b24e5baa50d40d0ba50a75</td>\n",
       "      <td>2017-10-13 22:07:33 UTC+0000</td>\n",
       "      <td>I agree with Denise. Every single job I've had...</td>\n",
       "    </tr>\n",
       "  </tbody>\n",
       "</table>\n",
       "</div>"
      ],
      "text/plain": [
       "                         answers_id                 answers_author_id  \\\n",
       "0  4e5f01128cae4f6d8fd697cec5dca60c  36ff3b3666df400f956f8335cf53e09e   \n",
       "1  ada720538c014e9b8a6dceed09385ee3  2aa47af241bf42a4b874c453f0381bd4   \n",
       "2  eaa66ef919bc408ab5296237440e323f  cbd8f30613a849bf918aed5c010340be   \n",
       "3  1a6b3749d391486c9e371fbd1e605014  7e72a630c303442ba92ff00e8ea451df   \n",
       "4  5229c514000446d582050f89ebd4e184  17802d94699140b0a0d2995f30c034c6   \n",
       "\n",
       "                answers_question_id            answers_date_added  \\\n",
       "0  332a511f1569444485cf7a7a556a5e54  2016-04-29 19:40:14 UTC+0000   \n",
       "1  eb80205482e4424cad8f16bc25aa2d9c  2018-05-01 14:19:08 UTC+0000   \n",
       "2  eb80205482e4424cad8f16bc25aa2d9c  2018-05-02 02:41:02 UTC+0000   \n",
       "3  4ec31632938a40b98909416bdd0decff  2017-05-10 19:00:47 UTC+0000   \n",
       "4  2f6a9a99d9b24e5baa50d40d0ba50a75  2017-10-13 22:07:33 UTC+0000   \n",
       "\n",
       "                                        answers_body  \n",
       "0  <p>Hi!</p>\\n<p>You are asking a very interesti...  \n",
       "1  <p>Hi. I joined the Army after I attended coll...  \n",
       "2  <p>Dear Priyanka,</p><p>Greetings! I have answ...  \n",
       "3  <p>I work for a global company who values high...  \n",
       "4  I agree with Denise. Every single job I've had...  "
      ]
     },
     "execution_count": 15,
     "metadata": {},
     "output_type": "execute_result"
    }
   ],
   "source": [
    "answers.head()"
   ]
  },
  {
   "cell_type": "markdown",
   "metadata": {},
   "source": [
    "Students"
   ]
  },
  {
   "cell_type": "code",
   "execution_count": 16,
   "metadata": {},
   "outputs": [
    {
     "data": {
      "text/html": [
       "<div>\n",
       "<style scoped>\n",
       "    .dataframe tbody tr th:only-of-type {\n",
       "        vertical-align: middle;\n",
       "    }\n",
       "\n",
       "    .dataframe tbody tr th {\n",
       "        vertical-align: top;\n",
       "    }\n",
       "\n",
       "    .dataframe thead th {\n",
       "        text-align: right;\n",
       "    }\n",
       "</style>\n",
       "<table border=\"1\" class=\"dataframe\">\n",
       "  <thead>\n",
       "    <tr style=\"text-align: right;\">\n",
       "      <th></th>\n",
       "      <th>students_id</th>\n",
       "      <th>students_location</th>\n",
       "      <th>students_date_joined</th>\n",
       "    </tr>\n",
       "  </thead>\n",
       "  <tbody>\n",
       "    <tr>\n",
       "      <th>0</th>\n",
       "      <td>12a89e96755a4dba83ff03e03043d9c0</td>\n",
       "      <td>NaN</td>\n",
       "      <td>2011-12-16 14:19:24 UTC+0000</td>\n",
       "    </tr>\n",
       "    <tr>\n",
       "      <th>1</th>\n",
       "      <td>e37a5990fe354c60be5e87376b08d5e3</td>\n",
       "      <td>NaN</td>\n",
       "      <td>2011-12-27 03:02:44 UTC+0000</td>\n",
       "    </tr>\n",
       "    <tr>\n",
       "      <th>2</th>\n",
       "      <td>12b402cceeda43dcb6e12ef9f2d221ea</td>\n",
       "      <td>NaN</td>\n",
       "      <td>2012-01-01 05:00:00 UTC+0000</td>\n",
       "    </tr>\n",
       "  </tbody>\n",
       "</table>\n",
       "</div>"
      ],
      "text/plain": [
       "                        students_id students_location  \\\n",
       "0  12a89e96755a4dba83ff03e03043d9c0               NaN   \n",
       "1  e37a5990fe354c60be5e87376b08d5e3               NaN   \n",
       "2  12b402cceeda43dcb6e12ef9f2d221ea               NaN   \n",
       "\n",
       "           students_date_joined  \n",
       "0  2011-12-16 14:19:24 UTC+0000  \n",
       "1  2011-12-27 03:02:44 UTC+0000  \n",
       "2  2012-01-01 05:00:00 UTC+0000  "
      ]
     },
     "execution_count": 16,
     "metadata": {},
     "output_type": "execute_result"
    }
   ],
   "source": [
    "students.head(3)"
   ]
  },
  {
   "cell_type": "code",
   "execution_count": 17,
   "metadata": {},
   "outputs": [
    {
     "name": "stdout",
     "output_type": "stream",
     "text": [
      "<class 'pandas.core.frame.DataFrame'>\n",
      "RangeIndex: 30971 entries, 0 to 30970\n",
      "Data columns (total 3 columns):\n",
      "students_id             30971 non-null object\n",
      "students_location       28938 non-null object\n",
      "students_date_joined    30971 non-null object\n",
      "dtypes: object(3)\n",
      "memory usage: 726.0+ KB\n"
     ]
    }
   ],
   "source": [
    "students.info()"
   ]
  },
  {
   "cell_type": "code",
   "execution_count": 18,
   "metadata": {},
   "outputs": [
    {
     "data": {
      "text/plain": [
       "students_id                0\n",
       "students_location       2033\n",
       "students_date_joined       0\n",
       "dtype: int64"
      ]
     },
     "execution_count": 18,
     "metadata": {},
     "output_type": "execute_result"
    }
   ],
   "source": [
    "students.isnull().sum()"
   ]
  },
  {
   "cell_type": "markdown",
   "metadata": {},
   "source": [
    "Top 10 student locations"
   ]
  },
  {
   "cell_type": "code",
   "execution_count": 19,
   "metadata": {},
   "outputs": [
    {
     "data": {
      "text/plain": [
       "5480"
      ]
     },
     "execution_count": 19,
     "metadata": {},
     "output_type": "execute_result"
    }
   ],
   "source": [
    "students.students_location.nunique()"
   ]
  },
  {
   "cell_type": "code",
   "execution_count": 20,
   "metadata": {},
   "outputs": [],
   "source": [
    "students_locations_top = students.students_location.value_counts().sort_values(ascending = False).head(10)"
   ]
  },
  {
   "cell_type": "code",
   "execution_count": 21,
   "metadata": {},
   "outputs": [
    {
     "data": {
      "text/plain": [
       "New York, New York             1313\n",
       "Bengaluru, Karnataka, India     890\n",
       "Los Angeles, California         663\n",
       "Hyderabad, Telangana, India     597\n",
       "Boston, Massachusetts           557\n",
       "San Francisco, California       550\n",
       "San Jose, California            548\n",
       "Houston, Texas                  476\n",
       "Chennai, Tamil Nadu, India      437\n",
       "Chicago, Illinois               344\n",
       "Name: students_location, dtype: int64"
      ]
     },
     "execution_count": 21,
     "metadata": {},
     "output_type": "execute_result"
    }
   ],
   "source": [
    "students_locations_top"
   ]
  },
  {
   "cell_type": "code",
   "execution_count": 22,
   "metadata": {},
   "outputs": [
    {
     "data": {
      "text/plain": [
       "<matplotlib.axes._subplots.AxesSubplot at 0x20400e0e550>"
      ]
     },
     "execution_count": 22,
     "metadata": {},
     "output_type": "execute_result"
    },
    {
     "data": {
      "image/png": "[encoded data removed]",
      "text/plain": [
       "<Figure size 432x288 with 1 Axes>"
      ]
     },
     "metadata": {
      "needs_background": "light"
     },
     "output_type": "display_data"
    }
   ],
   "source": [
    "students_locations_top.plot.bar()"
   ]
  },
  {
   "cell_type": "markdown",
   "metadata": {},
   "source": [
    "groups"
   ]
  },
  {
   "cell_type": "code",
   "execution_count": 23,
   "metadata": {},
   "outputs": [
    {
     "data": {
      "text/plain": [
       "Index(['groups_id', 'groups_group_type'], dtype='object')"
      ]
     },
     "execution_count": 23,
     "metadata": {},
     "output_type": "execute_result"
    }
   ],
   "source": [
    "groups.columns"
   ]
  },
  {
   "cell_type": "code",
   "execution_count": 24,
   "metadata": {},
   "outputs": [
    {
     "data": {
      "text/plain": [
       "array(['youth program', 'cause', 'professional network', 'club',\n",
       "       'competition', 'mentorship program', 'interest group'],\n",
       "      dtype=object)"
      ]
     },
     "execution_count": 24,
     "metadata": {},
     "output_type": "execute_result"
    }
   ],
   "source": [
    "groups.groups_group_type.unique()"
   ]
  },
  {
   "cell_type": "code",
   "execution_count": 25,
   "metadata": {},
   "outputs": [
    {
     "data": {
      "text/plain": [
       "7"
      ]
     },
     "execution_count": 25,
     "metadata": {},
     "output_type": "execute_result"
    }
   ],
   "source": [
    "groups.groups_group_type.nunique()"
   ]
  },
  {
   "cell_type": "code",
   "execution_count": 26,
   "metadata": {},
   "outputs": [
    {
     "data": {
      "text/plain": [
       "Text(0,0.5,'group types')"
      ]
     },
     "execution_count": 26,
     "metadata": {},
     "output_type": "execute_result"
    },
    {
     "data": {
      "image/png": "[encoded data removed]",
      "text/plain": [
       "<Figure size 432x288 with 1 Axes>"
      ]
     },
     "metadata": {
      "needs_background": "light"
     },
     "output_type": "display_data"
    }
   ],
   "source": [
    "#groups.groups_group_type.value_counts().sort_values(ascending=True).plot.barh(title='Group Types')\n",
    "groups.groups_group_type.value_counts().sort_values(ascending=True).plot(kind='barh', title='horizoneal bar graph')\n",
    "plt.xlabel('counts')\n",
    "plt.ylabel('group types')"
   ]
  },
  {
   "cell_type": "code",
   "execution_count": 27,
   "metadata": {},
   "outputs": [
    {
     "data": {
      "text/plain": [
       "<matplotlib.axes._subplots.AxesSubplot at 0x204038606d8>"
      ]
     },
     "execution_count": 27,
     "metadata": {},
     "output_type": "execute_result"
    },
    {
     "data": {
      "image/png": "[encoded data removed]",
      "text/plain": [
       "<Figure size 360x360 with 1 Axes>"
      ]
     },
     "metadata": {
      "needs_background": "light"
     },
     "output_type": "display_data"
    }
   ],
   "source": [
    "#groups.groups_group_type.value_counts().plot.bar()\n",
    "#groups.groups_group_type.value_counts().sort_values(ascending=True).plot.bar(title='group types')\n",
    "groups.groups_group_type.value_counts().sort_values(ascending=True).plot(kind='bar', title='group types', figsize=(5, 5))"
   ]
  },
  {
   "cell_type": "code",
   "execution_count": 28,
   "metadata": {
    "scrolled": true
   },
   "outputs": [],
   "source": [
    "temp = groups.groups_group_type.value_counts()\n",
    "temp = temp.reset_index()"
   ]
  },
  {
   "cell_type": "code",
   "execution_count": 29,
   "metadata": {},
   "outputs": [
    {
     "data": {
      "text/html": [
       "<div>\n",
       "<style scoped>\n",
       "    .dataframe tbody tr th:only-of-type {\n",
       "        vertical-align: middle;\n",
       "    }\n",
       "\n",
       "    .dataframe tbody tr th {\n",
       "        vertical-align: top;\n",
       "    }\n",
       "\n",
       "    .dataframe thead th {\n",
       "        text-align: right;\n",
       "    }\n",
       "</style>\n",
       "<table border=\"1\" class=\"dataframe\">\n",
       "  <thead>\n",
       "    <tr style=\"text-align: right;\">\n",
       "      <th></th>\n",
       "      <th>index</th>\n",
       "      <th>groups_group_type</th>\n",
       "    </tr>\n",
       "  </thead>\n",
       "  <tbody>\n",
       "    <tr>\n",
       "      <th>0</th>\n",
       "      <td>youth program</td>\n",
       "      <td>33</td>\n",
       "    </tr>\n",
       "    <tr>\n",
       "      <th>1</th>\n",
       "      <td>professional network</td>\n",
       "      <td>8</td>\n",
       "    </tr>\n",
       "    <tr>\n",
       "      <th>2</th>\n",
       "      <td>mentorship program</td>\n",
       "      <td>3</td>\n",
       "    </tr>\n",
       "    <tr>\n",
       "      <th>3</th>\n",
       "      <td>cause</td>\n",
       "      <td>2</td>\n",
       "    </tr>\n",
       "    <tr>\n",
       "      <th>4</th>\n",
       "      <td>interest group</td>\n",
       "      <td>1</td>\n",
       "    </tr>\n",
       "  </tbody>\n",
       "</table>\n",
       "</div>"
      ],
      "text/plain": [
       "                  index  groups_group_type\n",
       "0         youth program                 33\n",
       "1  professional network                  8\n",
       "2    mentorship program                  3\n",
       "3                 cause                  2\n",
       "4        interest group                  1"
      ]
     },
     "execution_count": 29,
     "metadata": {},
     "output_type": "execute_result"
    }
   ],
   "source": [
    "temp.head()"
   ]
  },
  {
   "cell_type": "code",
   "execution_count": 30,
   "metadata": {},
   "outputs": [
    {
     "data": {
      "text/plain": [
       "<matplotlib.axes._subplots.AxesSubplot at 0x204038eccc0>"
      ]
     },
     "execution_count": 30,
     "metadata": {},
     "output_type": "execute_result"
    },
    {
     "data": {
      "image/png": "[encoded data removed]",
      "text/plain": [
       "<Figure size 432x288 with 1 Axes>"
      ]
     },
     "metadata": {
      "needs_background": "light"
     },
     "output_type": "display_data"
    }
   ],
   "source": [
    "sns.barplot(x=\"groups_group_type\", y='index', data=temp, color=\"cyan\")"
   ]
  },
  {
   "cell_type": "code",
   "execution_count": 31,
   "metadata": {},
   "outputs": [
    {
     "data": {
      "text/html": [
       "<div>\n",
       "<style scoped>\n",
       "    .dataframe tbody tr th:only-of-type {\n",
       "        vertical-align: middle;\n",
       "    }\n",
       "\n",
       "    .dataframe tbody tr th {\n",
       "        vertical-align: top;\n",
       "    }\n",
       "\n",
       "    .dataframe thead th {\n",
       "        text-align: right;\n",
       "    }\n",
       "</style>\n",
       "<table border=\"1\" class=\"dataframe\">\n",
       "  <thead>\n",
       "    <tr style=\"text-align: right;\">\n",
       "      <th></th>\n",
       "      <th>emails_id</th>\n",
       "      <th>emails_recipient_id</th>\n",
       "      <th>emails_date_sent</th>\n",
       "      <th>emails_frequency_level</th>\n",
       "    </tr>\n",
       "  </thead>\n",
       "  <tbody>\n",
       "    <tr>\n",
       "      <th>0</th>\n",
       "      <td>2337714</td>\n",
       "      <td>0c673e046d824ec0ad0ebe012a0673e4</td>\n",
       "      <td>2018-12-07 01:05:40 UTC+0000</td>\n",
       "      <td>email_notification_daily</td>\n",
       "    </tr>\n",
       "    <tr>\n",
       "      <th>1</th>\n",
       "      <td>2336077</td>\n",
       "      <td>0c673e046d824ec0ad0ebe012a0673e4</td>\n",
       "      <td>2018-12-06 01:14:15 UTC+0000</td>\n",
       "      <td>email_notification_daily</td>\n",
       "    </tr>\n",
       "    <tr>\n",
       "      <th>2</th>\n",
       "      <td>2314660</td>\n",
       "      <td>0c673e046d824ec0ad0ebe012a0673e4</td>\n",
       "      <td>2018-11-17 00:38:27 UTC+0000</td>\n",
       "      <td>email_notification_daily</td>\n",
       "    </tr>\n",
       "    <tr>\n",
       "      <th>3</th>\n",
       "      <td>2312639</td>\n",
       "      <td>0c673e046d824ec0ad0ebe012a0673e4</td>\n",
       "      <td>2018-11-16 00:32:19 UTC+0000</td>\n",
       "      <td>email_notification_daily</td>\n",
       "    </tr>\n",
       "    <tr>\n",
       "      <th>4</th>\n",
       "      <td>2299700</td>\n",
       "      <td>0c673e046d824ec0ad0ebe012a0673e4</td>\n",
       "      <td>2018-11-08 00:16:40 UTC+0000</td>\n",
       "      <td>email_notification_daily</td>\n",
       "    </tr>\n",
       "  </tbody>\n",
       "</table>\n",
       "</div>"
      ],
      "text/plain": [
       "   emails_id               emails_recipient_id              emails_date_sent  \\\n",
       "0    2337714  0c673e046d824ec0ad0ebe012a0673e4  2018-12-07 01:05:40 UTC+0000   \n",
       "1    2336077  0c673e046d824ec0ad0ebe012a0673e4  2018-12-06 01:14:15 UTC+0000   \n",
       "2    2314660  0c673e046d824ec0ad0ebe012a0673e4  2018-11-17 00:38:27 UTC+0000   \n",
       "3    2312639  0c673e046d824ec0ad0ebe012a0673e4  2018-11-16 00:32:19 UTC+0000   \n",
       "4    2299700  0c673e046d824ec0ad0ebe012a0673e4  2018-11-08 00:16:40 UTC+0000   \n",
       "\n",
       "     emails_frequency_level  \n",
       "0  email_notification_daily  \n",
       "1  email_notification_daily  \n",
       "2  email_notification_daily  \n",
       "3  email_notification_daily  \n",
       "4  email_notification_daily  "
      ]
     },
     "execution_count": 31,
     "metadata": {},
     "output_type": "execute_result"
    }
   ],
   "source": [
    "emails.head()"
   ]
  },
  {
   "cell_type": "code",
   "execution_count": 32,
   "metadata": {},
   "outputs": [
    {
     "data": {
      "text/plain": [
       "Index(['emails_id', 'emails_recipient_id', 'emails_date_sent',\n",
       "       'emails_frequency_level'],\n",
       "      dtype='object')"
      ]
     },
     "execution_count": 32,
     "metadata": {},
     "output_type": "execute_result"
    }
   ],
   "source": [
    "emails.columns"
   ]
  },
  {
   "cell_type": "code",
   "execution_count": 33,
   "metadata": {},
   "outputs": [
    {
     "data": {
      "text/plain": [
       "array(['email_notification_daily', 'email_notification_immediate',\n",
       "       'email_notification_weekly'], dtype=object)"
      ]
     },
     "execution_count": 33,
     "metadata": {},
     "output_type": "execute_result"
    }
   ],
   "source": [
    "emails.emails_frequency_level.unique()"
   ]
  },
  {
   "cell_type": "code",
   "execution_count": 34,
   "metadata": {
    "scrolled": true
   },
   "outputs": [
    {
     "data": {
      "text/html": [
       "<div>\n",
       "<style scoped>\n",
       "    .dataframe tbody tr th:only-of-type {\n",
       "        vertical-align: middle;\n",
       "    }\n",
       "\n",
       "    .dataframe tbody tr th {\n",
       "        vertical-align: top;\n",
       "    }\n",
       "\n",
       "    .dataframe thead th {\n",
       "        text-align: right;\n",
       "    }\n",
       "</style>\n",
       "<table border=\"1\" class=\"dataframe\">\n",
       "  <thead>\n",
       "    <tr style=\"text-align: right;\">\n",
       "      <th></th>\n",
       "      <th>professionals_id</th>\n",
       "      <th>professionals_location</th>\n",
       "      <th>professionals_industry</th>\n",
       "      <th>professionals_headline</th>\n",
       "      <th>professionals_date_joined</th>\n",
       "    </tr>\n",
       "  </thead>\n",
       "  <tbody>\n",
       "    <tr>\n",
       "      <th>0</th>\n",
       "      <td>9ced4ce7519049c0944147afb75a8ce3</td>\n",
       "      <td>NaN</td>\n",
       "      <td>NaN</td>\n",
       "      <td>NaN</td>\n",
       "      <td>2011-10-05 20:35:19 UTC+0000</td>\n",
       "    </tr>\n",
       "    <tr>\n",
       "      <th>1</th>\n",
       "      <td>f718dcf6d2ec4cb0a52a9db59d7f9e67</td>\n",
       "      <td>NaN</td>\n",
       "      <td>NaN</td>\n",
       "      <td>NaN</td>\n",
       "      <td>2011-10-05 20:49:21 UTC+0000</td>\n",
       "    </tr>\n",
       "    <tr>\n",
       "      <th>2</th>\n",
       "      <td>0c673e046d824ec0ad0ebe012a0673e4</td>\n",
       "      <td>New York, New York</td>\n",
       "      <td>NaN</td>\n",
       "      <td>NaN</td>\n",
       "      <td>2011-10-18 17:31:26 UTC+0000</td>\n",
       "    </tr>\n",
       "    <tr>\n",
       "      <th>3</th>\n",
       "      <td>977428d851b24183b223be0eb8619a8c</td>\n",
       "      <td>Boston, Massachusetts</td>\n",
       "      <td>NaN</td>\n",
       "      <td>NaN</td>\n",
       "      <td>2011-11-09 20:39:29 UTC+0000</td>\n",
       "    </tr>\n",
       "    <tr>\n",
       "      <th>4</th>\n",
       "      <td>e2d57e5041a44f489288397c9904c2b2</td>\n",
       "      <td>NaN</td>\n",
       "      <td>NaN</td>\n",
       "      <td>NaN</td>\n",
       "      <td>2011-12-10 22:14:44 UTC+0000</td>\n",
       "    </tr>\n",
       "  </tbody>\n",
       "</table>\n",
       "</div>"
      ],
      "text/plain": [
       "                   professionals_id professionals_location  \\\n",
       "0  9ced4ce7519049c0944147afb75a8ce3                    NaN   \n",
       "1  f718dcf6d2ec4cb0a52a9db59d7f9e67                    NaN   \n",
       "2  0c673e046d824ec0ad0ebe012a0673e4     New York, New York   \n",
       "3  977428d851b24183b223be0eb8619a8c  Boston, Massachusetts   \n",
       "4  e2d57e5041a44f489288397c9904c2b2                    NaN   \n",
       "\n",
       "  professionals_industry professionals_headline     professionals_date_joined  \n",
       "0                    NaN                    NaN  2011-10-05 20:35:19 UTC+0000  \n",
       "1                    NaN                    NaN  2011-10-05 20:49:21 UTC+0000  \n",
       "2                    NaN                    NaN  2011-10-18 17:31:26 UTC+0000  \n",
       "3                    NaN                    NaN  2011-11-09 20:39:29 UTC+0000  \n",
       "4                    NaN                    NaN  2011-12-10 22:14:44 UTC+0000  "
      ]
     },
     "execution_count": 34,
     "metadata": {},
     "output_type": "execute_result"
    }
   ],
   "source": [
    "professionals.head()"
   ]
  },
  {
   "cell_type": "code",
   "execution_count": 35,
   "metadata": {
    "scrolled": true
   },
   "outputs": [
    {
     "data": {
      "text/html": [
       "<div>\n",
       "<style scoped>\n",
       "    .dataframe tbody tr th:only-of-type {\n",
       "        vertical-align: middle;\n",
       "    }\n",
       "\n",
       "    .dataframe tbody tr th {\n",
       "        vertical-align: top;\n",
       "    }\n",
       "\n",
       "    .dataframe thead th {\n",
       "        text-align: right;\n",
       "    }\n",
       "</style>\n",
       "<table border=\"1\" class=\"dataframe\">\n",
       "  <thead>\n",
       "    <tr style=\"text-align: right;\">\n",
       "      <th></th>\n",
       "      <th>students_id</th>\n",
       "      <th>students_location</th>\n",
       "      <th>students_date_joined</th>\n",
       "    </tr>\n",
       "  </thead>\n",
       "  <tbody>\n",
       "    <tr>\n",
       "      <th>0</th>\n",
       "      <td>12a89e96755a4dba83ff03e03043d9c0</td>\n",
       "      <td>NaN</td>\n",
       "      <td>2011-12-16 14:19:24 UTC+0000</td>\n",
       "    </tr>\n",
       "    <tr>\n",
       "      <th>1</th>\n",
       "      <td>e37a5990fe354c60be5e87376b08d5e3</td>\n",
       "      <td>NaN</td>\n",
       "      <td>2011-12-27 03:02:44 UTC+0000</td>\n",
       "    </tr>\n",
       "    <tr>\n",
       "      <th>2</th>\n",
       "      <td>12b402cceeda43dcb6e12ef9f2d221ea</td>\n",
       "      <td>NaN</td>\n",
       "      <td>2012-01-01 05:00:00 UTC+0000</td>\n",
       "    </tr>\n",
       "    <tr>\n",
       "      <th>3</th>\n",
       "      <td>a0f431fc79794edcb104f68ce55ab897</td>\n",
       "      <td>NaN</td>\n",
       "      <td>2012-01-01 05:00:00 UTC+0000</td>\n",
       "    </tr>\n",
       "    <tr>\n",
       "      <th>4</th>\n",
       "      <td>23aea4702d804bd88d1e9fb28074a1b4</td>\n",
       "      <td>NaN</td>\n",
       "      <td>2012-01-01 05:00:00 UTC+0000</td>\n",
       "    </tr>\n",
       "  </tbody>\n",
       "</table>\n",
       "</div>"
      ],
      "text/plain": [
       "                        students_id students_location  \\\n",
       "0  12a89e96755a4dba83ff03e03043d9c0               NaN   \n",
       "1  e37a5990fe354c60be5e87376b08d5e3               NaN   \n",
       "2  12b402cceeda43dcb6e12ef9f2d221ea               NaN   \n",
       "3  a0f431fc79794edcb104f68ce55ab897               NaN   \n",
       "4  23aea4702d804bd88d1e9fb28074a1b4               NaN   \n",
       "\n",
       "           students_date_joined  \n",
       "0  2011-12-16 14:19:24 UTC+0000  \n",
       "1  2011-12-27 03:02:44 UTC+0000  \n",
       "2  2012-01-01 05:00:00 UTC+0000  \n",
       "3  2012-01-01 05:00:00 UTC+0000  \n",
       "4  2012-01-01 05:00:00 UTC+0000  "
      ]
     },
     "execution_count": 35,
     "metadata": {},
     "output_type": "execute_result"
    }
   ],
   "source": [
    "students.head()"
   ]
  },
  {
   "cell_type": "code",
   "execution_count": 36,
   "metadata": {},
   "outputs": [
    {
     "data": {
      "text/html": [
       "<div>\n",
       "<style scoped>\n",
       "    .dataframe tbody tr th:only-of-type {\n",
       "        vertical-align: middle;\n",
       "    }\n",
       "\n",
       "    .dataframe tbody tr th {\n",
       "        vertical-align: top;\n",
       "    }\n",
       "\n",
       "    .dataframe thead th {\n",
       "        text-align: right;\n",
       "    }\n",
       "</style>\n",
       "<table border=\"1\" class=\"dataframe\">\n",
       "  <thead>\n",
       "    <tr style=\"text-align: right;\">\n",
       "      <th></th>\n",
       "      <th>school_memberships_school_id</th>\n",
       "      <th>school_memberships_user_id</th>\n",
       "    </tr>\n",
       "  </thead>\n",
       "  <tbody>\n",
       "    <tr>\n",
       "      <th>0</th>\n",
       "      <td>197406</td>\n",
       "      <td>23dce13ca6164a73aec7a3cd56a4884d</td>\n",
       "    </tr>\n",
       "    <tr>\n",
       "      <th>1</th>\n",
       "      <td>197398</td>\n",
       "      <td>23dce13ca6164a73aec7a3cd56a4884d</td>\n",
       "    </tr>\n",
       "    <tr>\n",
       "      <th>2</th>\n",
       "      <td>199821</td>\n",
       "      <td>23dce13ca6164a73aec7a3cd56a4884d</td>\n",
       "    </tr>\n",
       "    <tr>\n",
       "      <th>3</th>\n",
       "      <td>186239</td>\n",
       "      <td>9c5803ae43ca4cf6b27ea85871625116</td>\n",
       "    </tr>\n",
       "    <tr>\n",
       "      <th>4</th>\n",
       "      <td>182063</td>\n",
       "      <td>9c5803ae43ca4cf6b27ea85871625116</td>\n",
       "    </tr>\n",
       "  </tbody>\n",
       "</table>\n",
       "</div>"
      ],
      "text/plain": [
       "   school_memberships_school_id        school_memberships_user_id\n",
       "0                        197406  23dce13ca6164a73aec7a3cd56a4884d\n",
       "1                        197398  23dce13ca6164a73aec7a3cd56a4884d\n",
       "2                        199821  23dce13ca6164a73aec7a3cd56a4884d\n",
       "3                        186239  9c5803ae43ca4cf6b27ea85871625116\n",
       "4                        182063  9c5803ae43ca4cf6b27ea85871625116"
      ]
     },
     "execution_count": 36,
     "metadata": {},
     "output_type": "execute_result"
    }
   ],
   "source": [
    "school_memberships.head()"
   ]
  },
  {
   "cell_type": "code",
   "execution_count": 37,
   "metadata": {},
   "outputs": [
    {
     "data": {
      "text/plain": [
       "2706"
      ]
     },
     "execution_count": 37,
     "metadata": {},
     "output_type": "execute_result"
    }
   ],
   "source": [
    "school_memberships.school_memberships_school_id.nunique()"
   ]
  },
  {
   "cell_type": "code",
   "execution_count": 38,
   "metadata": {},
   "outputs": [
    {
     "data": {
      "text/html": [
       "<div>\n",
       "<style scoped>\n",
       "    .dataframe tbody tr th:only-of-type {\n",
       "        vertical-align: middle;\n",
       "    }\n",
       "\n",
       "    .dataframe tbody tr th {\n",
       "        vertical-align: top;\n",
       "    }\n",
       "\n",
       "    .dataframe thead th {\n",
       "        text-align: right;\n",
       "    }\n",
       "</style>\n",
       "<table border=\"1\" class=\"dataframe\">\n",
       "  <thead>\n",
       "    <tr style=\"text-align: right;\">\n",
       "      <th></th>\n",
       "      <th>questions_id</th>\n",
       "      <th>questions_author_id</th>\n",
       "      <th>questions_date_added</th>\n",
       "      <th>questions_title</th>\n",
       "      <th>questions_body</th>\n",
       "    </tr>\n",
       "  </thead>\n",
       "  <tbody>\n",
       "    <tr>\n",
       "      <th>0</th>\n",
       "      <td>332a511f1569444485cf7a7a556a5e54</td>\n",
       "      <td>8f6f374ffd834d258ab69d376dd998f5</td>\n",
       "      <td>2016-04-26 11:14:26 UTC+0000</td>\n",
       "      <td>Teacher   career   question</td>\n",
       "      <td>What  is  a  maths  teacher?   what  is  a  ma...</td>\n",
       "    </tr>\n",
       "    <tr>\n",
       "      <th>1</th>\n",
       "      <td>eb80205482e4424cad8f16bc25aa2d9c</td>\n",
       "      <td>acccbda28edd4362ab03fb8b6fd2d67b</td>\n",
       "      <td>2016-05-20 16:48:25 UTC+0000</td>\n",
       "      <td>I want to become an army officer. What can I d...</td>\n",
       "      <td>I am Priyanka from Bangalore . Now am in 10th ...</td>\n",
       "    </tr>\n",
       "    <tr>\n",
       "      <th>2</th>\n",
       "      <td>4ec31632938a40b98909416bdd0decff</td>\n",
       "      <td>f2c179a563024ccc927399ce529094b5</td>\n",
       "      <td>2017-02-08 19:13:38 UTC+0000</td>\n",
       "      <td>Will going abroad for your first job increase ...</td>\n",
       "      <td>I'm planning on going abroad for my first job....</td>\n",
       "    </tr>\n",
       "  </tbody>\n",
       "</table>\n",
       "</div>"
      ],
      "text/plain": [
       "                       questions_id               questions_author_id  \\\n",
       "0  332a511f1569444485cf7a7a556a5e54  8f6f374ffd834d258ab69d376dd998f5   \n",
       "1  eb80205482e4424cad8f16bc25aa2d9c  acccbda28edd4362ab03fb8b6fd2d67b   \n",
       "2  4ec31632938a40b98909416bdd0decff  f2c179a563024ccc927399ce529094b5   \n",
       "\n",
       "           questions_date_added  \\\n",
       "0  2016-04-26 11:14:26 UTC+0000   \n",
       "1  2016-05-20 16:48:25 UTC+0000   \n",
       "2  2017-02-08 19:13:38 UTC+0000   \n",
       "\n",
       "                                     questions_title  \\\n",
       "0                        Teacher   career   question   \n",
       "1  I want to become an army officer. What can I d...   \n",
       "2  Will going abroad for your first job increase ...   \n",
       "\n",
       "                                      questions_body  \n",
       "0  What  is  a  maths  teacher?   what  is  a  ma...  \n",
       "1  I am Priyanka from Bangalore . Now am in 10th ...  \n",
       "2  I'm planning on going abroad for my first job....  "
      ]
     },
     "execution_count": 38,
     "metadata": {},
     "output_type": "execute_result"
    }
   ],
   "source": [
    "questions.head(3)"
   ]
  },
  {
   "cell_type": "markdown",
   "metadata": {},
   "source": [
    "# Merging data sets"
   ]
  },
  {
   "cell_type": "code",
   "execution_count": 39,
   "metadata": {},
   "outputs": [],
   "source": [
    "df = pd.merge(questions, answers, how='left', left_on='questions_id', right_on='answers_question_id')\n",
    "df = pd.merge(df, tag_questions, how ='left', left_on='questions_id', right_on='tag_questions_question_id')\n",
    "df = pd.merge(df, tags, how='left', left_on='tag_questions_tag_id', right_on='tags_tag_id')\n",
    "df = pd.merge(df, group_memberships, how='left', left_on='answers_author_id', right_on='group_memberships_user_id')\n",
    "df = pd.merge(df, groups,how='left', left_on='group_memberships_group_id', right_on='groups_id')\n",
    "df = pd.merge(df, professionals, how='left', left_on='answers_author_id', right_on='professionals_id')"
   ]
  },
  {
   "cell_type": "code",
   "execution_count": null,
   "metadata": {},
   "outputs": [],
   "source": []
  },
  {
   "cell_type": "code",
   "execution_count": 40,
   "metadata": {
    "scrolled": true
   },
   "outputs": [
    {
     "data": {
      "text/html": [
       "<div>\n",
       "<style scoped>\n",
       "    .dataframe tbody tr th:only-of-type {\n",
       "        vertical-align: middle;\n",
       "    }\n",
       "\n",
       "    .dataframe tbody tr th {\n",
       "        vertical-align: top;\n",
       "    }\n",
       "\n",
       "    .dataframe thead th {\n",
       "        text-align: right;\n",
       "    }\n",
       "</style>\n",
       "<table border=\"1\" class=\"dataframe\">\n",
       "  <thead>\n",
       "    <tr style=\"text-align: right;\">\n",
       "      <th></th>\n",
       "      <th>0</th>\n",
       "      <th>1</th>\n",
       "      <th>2</th>\n",
       "    </tr>\n",
       "  </thead>\n",
       "  <tbody>\n",
       "    <tr>\n",
       "      <th>questions_id</th>\n",
       "      <td>332a511f1569444485cf7a7a556a5e54</td>\n",
       "      <td>332a511f1569444485cf7a7a556a5e54</td>\n",
       "      <td>332a511f1569444485cf7a7a556a5e54</td>\n",
       "    </tr>\n",
       "    <tr>\n",
       "      <th>questions_author_id</th>\n",
       "      <td>8f6f374ffd834d258ab69d376dd998f5</td>\n",
       "      <td>8f6f374ffd834d258ab69d376dd998f5</td>\n",
       "      <td>8f6f374ffd834d258ab69d376dd998f5</td>\n",
       "    </tr>\n",
       "    <tr>\n",
       "      <th>questions_date_added</th>\n",
       "      <td>2016-04-26 11:14:26 UTC+0000</td>\n",
       "      <td>2016-04-26 11:14:26 UTC+0000</td>\n",
       "      <td>2016-04-26 11:14:26 UTC+0000</td>\n",
       "    </tr>\n",
       "    <tr>\n",
       "      <th>questions_title</th>\n",
       "      <td>Teacher   career   question</td>\n",
       "      <td>Teacher   career   question</td>\n",
       "      <td>Teacher   career   question</td>\n",
       "    </tr>\n",
       "    <tr>\n",
       "      <th>questions_body</th>\n",
       "      <td>What  is  a  maths  teacher?   what  is  a  ma...</td>\n",
       "      <td>What  is  a  maths  teacher?   what  is  a  ma...</td>\n",
       "      <td>What  is  a  maths  teacher?   what  is  a  ma...</td>\n",
       "    </tr>\n",
       "    <tr>\n",
       "      <th>answers_id</th>\n",
       "      <td>4e5f01128cae4f6d8fd697cec5dca60c</td>\n",
       "      <td>4e5f01128cae4f6d8fd697cec5dca60c</td>\n",
       "      <td>4e5f01128cae4f6d8fd697cec5dca60c</td>\n",
       "    </tr>\n",
       "    <tr>\n",
       "      <th>answers_author_id</th>\n",
       "      <td>36ff3b3666df400f956f8335cf53e09e</td>\n",
       "      <td>36ff3b3666df400f956f8335cf53e09e</td>\n",
       "      <td>36ff3b3666df400f956f8335cf53e09e</td>\n",
       "    </tr>\n",
       "    <tr>\n",
       "      <th>answers_question_id</th>\n",
       "      <td>332a511f1569444485cf7a7a556a5e54</td>\n",
       "      <td>332a511f1569444485cf7a7a556a5e54</td>\n",
       "      <td>332a511f1569444485cf7a7a556a5e54</td>\n",
       "    </tr>\n",
       "    <tr>\n",
       "      <th>answers_date_added</th>\n",
       "      <td>2016-04-29 19:40:14 UTC+0000</td>\n",
       "      <td>2016-04-29 19:40:14 UTC+0000</td>\n",
       "      <td>2016-04-29 19:40:14 UTC+0000</td>\n",
       "    </tr>\n",
       "    <tr>\n",
       "      <th>answers_body</th>\n",
       "      <td>&lt;p&gt;Hi!&lt;/p&gt;\\n&lt;p&gt;You are asking a very interesti...</td>\n",
       "      <td>&lt;p&gt;Hi!&lt;/p&gt;\\n&lt;p&gt;You are asking a very interesti...</td>\n",
       "      <td>&lt;p&gt;Hi!&lt;/p&gt;\\n&lt;p&gt;You are asking a very interesti...</td>\n",
       "    </tr>\n",
       "    <tr>\n",
       "      <th>tag_questions_tag_id</th>\n",
       "      <td>14147</td>\n",
       "      <td>27490</td>\n",
       "      <td>21438</td>\n",
       "    </tr>\n",
       "    <tr>\n",
       "      <th>tag_questions_question_id</th>\n",
       "      <td>332a511f1569444485cf7a7a556a5e54</td>\n",
       "      <td>332a511f1569444485cf7a7a556a5e54</td>\n",
       "      <td>332a511f1569444485cf7a7a556a5e54</td>\n",
       "    </tr>\n",
       "    <tr>\n",
       "      <th>tags_tag_id</th>\n",
       "      <td>14147</td>\n",
       "      <td>27490</td>\n",
       "      <td>21438</td>\n",
       "    </tr>\n",
       "    <tr>\n",
       "      <th>tags_tag_name</th>\n",
       "      <td>lecture</td>\n",
       "      <td>college</td>\n",
       "      <td>professor</td>\n",
       "    </tr>\n",
       "    <tr>\n",
       "      <th>group_memberships_group_id</th>\n",
       "      <td>78c15b3814e7417a9da357c0df011194</td>\n",
       "      <td>78c15b3814e7417a9da357c0df011194</td>\n",
       "      <td>78c15b3814e7417a9da357c0df011194</td>\n",
       "    </tr>\n",
       "    <tr>\n",
       "      <th>group_memberships_user_id</th>\n",
       "      <td>36ff3b3666df400f956f8335cf53e09e</td>\n",
       "      <td>36ff3b3666df400f956f8335cf53e09e</td>\n",
       "      <td>36ff3b3666df400f956f8335cf53e09e</td>\n",
       "    </tr>\n",
       "    <tr>\n",
       "      <th>groups_id</th>\n",
       "      <td>78c15b3814e7417a9da357c0df011194</td>\n",
       "      <td>78c15b3814e7417a9da357c0df011194</td>\n",
       "      <td>78c15b3814e7417a9da357c0df011194</td>\n",
       "    </tr>\n",
       "    <tr>\n",
       "      <th>groups_group_type</th>\n",
       "      <td>youth program</td>\n",
       "      <td>youth program</td>\n",
       "      <td>youth program</td>\n",
       "    </tr>\n",
       "    <tr>\n",
       "      <th>professionals_id</th>\n",
       "      <td>36ff3b3666df400f956f8335cf53e09e</td>\n",
       "      <td>36ff3b3666df400f956f8335cf53e09e</td>\n",
       "      <td>36ff3b3666df400f956f8335cf53e09e</td>\n",
       "    </tr>\n",
       "    <tr>\n",
       "      <th>professionals_location</th>\n",
       "      <td>Cleveland, Ohio</td>\n",
       "      <td>Cleveland, Ohio</td>\n",
       "      <td>Cleveland, Ohio</td>\n",
       "    </tr>\n",
       "    <tr>\n",
       "      <th>professionals_industry</th>\n",
       "      <td>Mental Health Care</td>\n",
       "      <td>Mental Health Care</td>\n",
       "      <td>Mental Health Care</td>\n",
       "    </tr>\n",
       "    <tr>\n",
       "      <th>professionals_headline</th>\n",
       "      <td>Assist with Recognizing and Developing Potential</td>\n",
       "      <td>Assist with Recognizing and Developing Potential</td>\n",
       "      <td>Assist with Recognizing and Developing Potential</td>\n",
       "    </tr>\n",
       "    <tr>\n",
       "      <th>professionals_date_joined</th>\n",
       "      <td>2015-10-19 20:56:49 UTC+0000</td>\n",
       "      <td>2015-10-19 20:56:49 UTC+0000</td>\n",
       "      <td>2015-10-19 20:56:49 UTC+0000</td>\n",
       "    </tr>\n",
       "  </tbody>\n",
       "</table>\n",
       "</div>"
      ],
      "text/plain": [
       "                                                                            0  \\\n",
       "questions_id                                 332a511f1569444485cf7a7a556a5e54   \n",
       "questions_author_id                          8f6f374ffd834d258ab69d376dd998f5   \n",
       "questions_date_added                             2016-04-26 11:14:26 UTC+0000   \n",
       "questions_title                                   Teacher   career   question   \n",
       "questions_body              What  is  a  maths  teacher?   what  is  a  ma...   \n",
       "answers_id                                   4e5f01128cae4f6d8fd697cec5dca60c   \n",
       "answers_author_id                            36ff3b3666df400f956f8335cf53e09e   \n",
       "answers_question_id                          332a511f1569444485cf7a7a556a5e54   \n",
       "answers_date_added                               2016-04-29 19:40:14 UTC+0000   \n",
       "answers_body                <p>Hi!</p>\\n<p>You are asking a very interesti...   \n",
       "tag_questions_tag_id                                                    14147   \n",
       "tag_questions_question_id                    332a511f1569444485cf7a7a556a5e54   \n",
       "tags_tag_id                                                             14147   \n",
       "tags_tag_name                                                         lecture   \n",
       "group_memberships_group_id                   78c15b3814e7417a9da357c0df011194   \n",
       "group_memberships_user_id                    36ff3b3666df400f956f8335cf53e09e   \n",
       "groups_id                                    78c15b3814e7417a9da357c0df011194   \n",
       "groups_group_type                                               youth program   \n",
       "professionals_id                             36ff3b3666df400f956f8335cf53e09e   \n",
       "professionals_location                                        Cleveland, Ohio   \n",
       "professionals_industry                                     Mental Health Care   \n",
       "professionals_headline       Assist with Recognizing and Developing Potential   \n",
       "professionals_date_joined                        2015-10-19 20:56:49 UTC+0000   \n",
       "\n",
       "                                                                            1  \\\n",
       "questions_id                                 332a511f1569444485cf7a7a556a5e54   \n",
       "questions_author_id                          8f6f374ffd834d258ab69d376dd998f5   \n",
       "questions_date_added                             2016-04-26 11:14:26 UTC+0000   \n",
       "questions_title                                   Teacher   career   question   \n",
       "questions_body              What  is  a  maths  teacher?   what  is  a  ma...   \n",
       "answers_id                                   4e5f01128cae4f6d8fd697cec5dca60c   \n",
       "answers_author_id                            36ff3b3666df400f956f8335cf53e09e   \n",
       "answers_question_id                          332a511f1569444485cf7a7a556a5e54   \n",
       "answers_date_added                               2016-04-29 19:40:14 UTC+0000   \n",
       "answers_body                <p>Hi!</p>\\n<p>You are asking a very interesti...   \n",
       "tag_questions_tag_id                                                    27490   \n",
       "tag_questions_question_id                    332a511f1569444485cf7a7a556a5e54   \n",
       "tags_tag_id                                                             27490   \n",
       "tags_tag_name                                                         college   \n",
       "group_memberships_group_id                   78c15b3814e7417a9da357c0df011194   \n",
       "group_memberships_user_id                    36ff3b3666df400f956f8335cf53e09e   \n",
       "groups_id                                    78c15b3814e7417a9da357c0df011194   \n",
       "groups_group_type                                               youth program   \n",
       "professionals_id                             36ff3b3666df400f956f8335cf53e09e   \n",
       "professionals_location                                        Cleveland, Ohio   \n",
       "professionals_industry                                     Mental Health Care   \n",
       "professionals_headline       Assist with Recognizing and Developing Potential   \n",
       "professionals_date_joined                        2015-10-19 20:56:49 UTC+0000   \n",
       "\n",
       "                                                                            2  \n",
       "questions_id                                 332a511f1569444485cf7a7a556a5e54  \n",
       "questions_author_id                          8f6f374ffd834d258ab69d376dd998f5  \n",
       "questions_date_added                             2016-04-26 11:14:26 UTC+0000  \n",
       "questions_title                                   Teacher   career   question  \n",
       "questions_body              What  is  a  maths  teacher?   what  is  a  ma...  \n",
       "answers_id                                   4e5f01128cae4f6d8fd697cec5dca60c  \n",
       "answers_author_id                            36ff3b3666df400f956f8335cf53e09e  \n",
       "answers_question_id                          332a511f1569444485cf7a7a556a5e54  \n",
       "answers_date_added                               2016-04-29 19:40:14 UTC+0000  \n",
       "answers_body                <p>Hi!</p>\\n<p>You are asking a very interesti...  \n",
       "tag_questions_tag_id                                                    21438  \n",
       "tag_questions_question_id                    332a511f1569444485cf7a7a556a5e54  \n",
       "tags_tag_id                                                             21438  \n",
       "tags_tag_name                                                       professor  \n",
       "group_memberships_group_id                   78c15b3814e7417a9da357c0df011194  \n",
       "group_memberships_user_id                    36ff3b3666df400f956f8335cf53e09e  \n",
       "groups_id                                    78c15b3814e7417a9da357c0df011194  \n",
       "groups_group_type                                               youth program  \n",
       "professionals_id                             36ff3b3666df400f956f8335cf53e09e  \n",
       "professionals_location                                        Cleveland, Ohio  \n",
       "professionals_industry                                     Mental Health Care  \n",
       "professionals_headline       Assist with Recognizing and Developing Potential  \n",
       "professionals_date_joined                        2015-10-19 20:56:49 UTC+0000  "
      ]
     },
     "execution_count": 40,
     "metadata": {},
     "output_type": "execute_result"
    }
   ],
   "source": [
    "df.head(3).transpose()"
   ]
  },
  {
   "cell_type": "code",
   "execution_count": 41,
   "metadata": {},
   "outputs": [],
   "source": [
    "#df.professionals_date_joined = pd.to_datetime(df.professionals_date_joined, errors='coerce')\n",
    "#df.students_date_joined = pd.to_datetime(df.students_date_joined, errors='coerce')\n",
    "#df.emails_date_sent = pd.to_datetime(df.emails_date_sent, errors='coerce')\n",
    "df.answers_date_added = pd.to_datetime(df.answers_date_added , errors='coerce')\n",
    "#df.comments_date_added = pd.to_datetime(df.comments_date_added, errors='coerce')\n",
    "df.questions_date_added = pd.to_datetime(df.questions_date_added, errors = 'coerce')"
   ]
  },
  {
   "cell_type": "code",
   "execution_count": 42,
   "metadata": {},
   "outputs": [
    {
     "data": {
      "text/plain": [
       "1200"
      ]
     },
     "execution_count": 42,
     "metadata": {},
     "output_type": "execute_result"
    }
   ],
   "source": [
    "df.professionals_industry.nunique()"
   ]
  },
  {
   "cell_type": "code",
   "execution_count": 43,
   "metadata": {},
   "outputs": [
    {
     "data": {
      "text/plain": [
       "Text(0,0.5,'')"
      ]
     },
     "execution_count": 43,
     "metadata": {},
     "output_type": "execute_result"
    },
    {
     "data": {
      "image/png": "[encoded data removed]",
      "text/plain": [
       "<Figure size 432x288 with 1 Axes>"
      ]
     },
     "metadata": {},
     "output_type": "display_data"
    }
   ],
   "source": [
    "df.professionals_industry.value_counts().sort_values(ascending=False).head(15).plot(kind='pie',autopct='%1.2f%%', title='Top 15 professional industries')\n",
    "plt.xlabel('')\n",
    "plt.ylabel('')"
   ]
  },
  {
   "cell_type": "code",
   "execution_count": 44,
   "metadata": {},
   "outputs": [],
   "source": [
    "df['question_date'] = df.questions_date_added.dt.date"
   ]
  },
  {
   "cell_type": "code",
   "execution_count": 45,
   "metadata": {
    "scrolled": false
   },
   "outputs": [
    {
     "data": {
      "text/plain": [
       "<matplotlib.axes._subplots.AxesSubplot at 0x20403b8a518>"
      ]
     },
     "execution_count": 45,
     "metadata": {},
     "output_type": "execute_result"
    },
    {
     "data": {
      "image/png": "[encoded data removed]",
      "text/plain": [
       "<Figure size 720x360 with 1 Axes>"
      ]
     },
     "metadata": {
      "needs_background": "light"
     },
     "output_type": "display_data"
    }
   ],
   "source": [
    "#plt.figure(figsize=(10,5))\n",
    "g1 =df.questions_id.groupby(df.question_date).count()\n",
    "g1.plot(figsize=(10,5), c='orange')"
   ]
  },
  {
   "cell_type": "code",
   "execution_count": 46,
   "metadata": {
    "scrolled": true
   },
   "outputs": [
    {
     "data": {
      "text/plain": [
       "<matplotlib.axes._subplots.AxesSubplot at 0x20407e47908>"
      ]
     },
     "execution_count": 46,
     "metadata": {},
     "output_type": "execute_result"
    },
    {
     "data": {
      "image/png": "[encoded data removed]",
      "text/plain": [
       "<Figure size 720x360 with 1 Axes>"
      ]
     },
     "metadata": {
      "needs_background": "light"
     },
     "output_type": "display_data"
    }
   ],
   "source": [
    "plt.figure(figsize=(10,5))\n",
    "np.cumsum(g1).plot(kind='line', c='orange')"
   ]
  },
  {
   "cell_type": "code",
   "execution_count": 47,
   "metadata": {
    "scrolled": false
   },
   "outputs": [
    {
     "data": {
      "image/png": "[encoded data removed]",
      "text/plain": [
       "<Figure size 720x360 with 1 Axes>"
      ]
     },
     "metadata": {
      "needs_background": "light"
     },
     "output_type": "display_data"
    }
   ],
   "source": [
    "g2 = df['question_date'].value_counts().plot(figsize=(10,5), c='orange')"
   ]
  },
  {
   "cell_type": "code",
   "execution_count": 48,
   "metadata": {
    "scrolled": true
   },
   "outputs": [
    {
     "data": {
      "text/plain": [
       "<matplotlib.axes._subplots.AxesSubplot at 0x20407f137f0>"
      ]
     },
     "execution_count": 48,
     "metadata": {},
     "output_type": "execute_result"
    },
    {
     "data": {
      "image/png": "[encoded data removed]",
      "text/plain": [
       "<Figure size 720x360 with 1 Axes>"
      ]
     },
     "metadata": {
      "needs_background": "light"
     },
     "output_type": "display_data"
    }
   ],
   "source": [
    "df_plot = df.groupby(['question_date', 'groups_group_type']).size().reset_index().pivot(columns='groups_group_type', index='question_date', values=0)\n",
    "#df_plot\n",
    "df_plot.plot(figsize=(10,5))"
   ]
  },
  {
   "cell_type": "code",
   "execution_count": 50,
   "metadata": {},
   "outputs": [
    {
     "data": {
      "text/plain": [
       "<matplotlib.axes._subplots.AxesSubplot at 0x2040395a0f0>"
      ]
     },
     "execution_count": 50,
     "metadata": {},
     "output_type": "execute_result"
    },
    {
     "data": {
      "image/png": "[encoded data removed]",
      "text/plain": [
       "<Figure size 504x288 with 1 Axes>"
      ]
     },
     "metadata": {
      "needs_background": "light"
     },
     "output_type": "display_data"
    }
   ],
   "source": [
    "plt.figure(figsize=(7,4))\n",
    "df.questions_id[pd.notna(df.answers_date_added)].groupby(df.question_date).count().plot()\n",
    "df.questions_id[pd.isna(df.answers_date_added)].groupby(df.question_date).count().plot()\n",
    "#df.questions_id[df.groups_group_type=='youth program'].groupby(df.question_date).count().plot()\n",
    "#df.questions_id[df.groups_group_type=='professional network'].groupby(df.question_date).count().plot()"
   ]
  },
  {
   "cell_type": "code",
   "execution_count": 49,
   "metadata": {},
   "outputs": [
    {
     "data": {
      "text/plain": [
       "<matplotlib.axes._subplots.AxesSubplot at 0x20407eb7860>"
      ]
     },
     "execution_count": 49,
     "metadata": {},
     "output_type": "execute_result"
    },
    {
     "data": {
      "image/png": "[encoded data removed]",
      "text/plain": [
       "<Figure size 432x288 with 1 Axes>"
      ]
     },
     "metadata": {
      "needs_background": "light"
     },
     "output_type": "display_data"
    }
   ],
   "source": [
    "#plt.figure(figsize=(10,5)) \n",
    "#df.set_index('question_date')\n",
    "df[['questions_id', 'answers_id']].groupby(df.question_date).count().plot()"
   ]
  },
  {
   "cell_type": "code",
   "execution_count": 51,
   "metadata": {},
   "outputs": [],
   "source": [
    "df['question_year']= df.questions_date_added.dt.year"
   ]
  },
  {
   "cell_type": "code",
   "execution_count": 52,
   "metadata": {},
   "outputs": [
    {
     "data": {
      "text/plain": [
       "<matplotlib.axes._subplots.AxesSubplot at 0x20403af36a0>"
      ]
     },
     "execution_count": 52,
     "metadata": {},
     "output_type": "execute_result"
    },
    {
     "data": {
      "image/png": "[encoded data removed]",
      "text/plain": [
       "<Figure size 720x360 with 1 Axes>"
      ]
     },
     "metadata": {
      "needs_background": "light"
     },
     "output_type": "display_data"
    }
   ],
   "source": [
    "df_plot = df.groupby(['question_year', 'groups_group_type']).size().reset_index().pivot(columns='groups_group_type', index='question_year', values=0)\n",
    "#df_plot\n",
    "df_plot.plot(figsize=(10,5))"
   ]
  },
  {
   "cell_type": "code",
   "execution_count": 56,
   "metadata": {},
   "outputs": [
    {
     "data": {
      "text/plain": [
       "<matplotlib.axes._subplots.AxesSubplot at 0x20408cade80>"
      ]
     },
     "execution_count": 56,
     "metadata": {},
     "output_type": "execute_result"
    },
    {
     "data": {
      "image/png": "[encoded data removed]",
      "text/plain": [
       "<Figure size 720x360 with 1 Axes>"
      ]
     },
     "metadata": {
      "needs_background": "light"
     },
     "output_type": "display_data"
    }
   ],
   "source": [
    "df_plot.plot( kind='bar', stacked=True, figsize=(10,5))"
   ]
  },
  {
   "cell_type": "code",
   "execution_count": null,
   "metadata": {},
   "outputs": [],
   "source": [
    "sns.catplot(x=\"question_year\", hue=\"groups_group_type\", kind=\"count\",\n",
    "            palette=\"pastel\", edgecolor=\".6\",\n",
    "            data=df);"
   ]
  },
  {
   "cell_type": "code",
   "execution_count": null,
   "metadata": {},
   "outputs": [],
   "source": [
    "df.tags_tag_name.nunique()"
   ]
  },
  {
   "cell_type": "code",
   "execution_count": null,
   "metadata": {},
   "outputs": [],
   "source": [
    "top_tags = df.questions_id.groupby(df.tags_tag_name).count().sort_values(ascending=False).head(10)\n",
    "top_tags.plot.bar()"
   ]
  },
  {
   "cell_type": "code",
   "execution_count": null,
   "metadata": {
    "scrolled": false
   },
   "outputs": [],
   "source": []
  },
  {
   "cell_type": "markdown",
   "metadata": {},
   "source": [
    "See how long it takes the questions to be answered"
   ]
  },
  {
   "cell_type": "code",
   "execution_count": null,
   "metadata": {},
   "outputs": [],
   "source": [
    "df['duration_answers'] = (pd.to_datetime(df.answers_date_added) - pd.to_datetime(df.questions_date_added) ).dt.days"
   ]
  },
  {
   "cell_type": "code",
   "execution_count": null,
   "metadata": {},
   "outputs": [],
   "source": [
    "df.duration_answers.describe()"
   ]
  },
  {
   "cell_type": "code",
   "execution_count": null,
   "metadata": {},
   "outputs": [],
   "source": [
    "df.duration_answers.groupby(df.groups_group_type).describe()"
   ]
  },
  {
   "cell_type": "code",
   "execution_count": null,
   "metadata": {},
   "outputs": [],
   "source": [
    "sns.distplot(df.duration_answers.dropna())"
   ]
  },
  {
   "cell_type": "code",
   "execution_count": null,
   "metadata": {},
   "outputs": [],
   "source": [
    "sns.kdeplot(df.duration_answers.dropna(), shade=True, color='r')"
   ]
  },
  {
   "cell_type": "code",
   "execution_count": null,
   "metadata": {
    "scrolled": false
   },
   "outputs": [],
   "source": [
    "sns.kdeplot(df.duration_answers.dropna()[df.tags_tag_name=='college'], label='college', shade=False)\n",
    "sns.kdeplot(df.duration_answers.dropna()[df.tags_tag_name=='career'], label='career', shade=False)\n",
    "sns.kdeplot(df.duration_answers.dropna()[df.tags_tag_name=='engineering'], label='engineering', shade=False)"
   ]
  },
  {
   "cell_type": "code",
   "execution_count": null,
   "metadata": {},
   "outputs": [],
   "source": [
    "sns.kdeplot(df.duration_answers.dropna()[df.groups_group_type=='competition'], label='competition')\n",
    "#sns.kdeplot(df.duration_answers.dropna()[df.groups_group_type=='youth program'], label='youth program')\n",
    "sns.kdeplot(df.duration_answers.dropna()[df.groups_group_type=='mentorship program'], label='mentorship program')"
   ]
  },
  {
   "cell_type": "code",
   "execution_count": null,
   "metadata": {},
   "outputs": [],
   "source": [
    "sns.catplot(x=\"groups_group_type\", y=\"duration_answers\",kind='box', data=df, aspect=20/10)"
   ]
  },
  {
   "cell_type": "code",
   "execution_count": null,
   "metadata": {},
   "outputs": [],
   "source": [
    "sns.catplot(x=\"groups_group_type\", y=\"duration_answers\", kind='violin', data=df, aspect=10/5)"
   ]
  },
  {
   "cell_type": "code",
   "execution_count": null,
   "metadata": {},
   "outputs": [],
   "source": [
    "df['professionals_city'] = df.professionals_location.str.split(',').str[0]\n",
    "df['professionals_state'] = df.professionals_location.str.split(',').str[1]"
   ]
  },
  {
   "cell_type": "code",
   "execution_count": null,
   "metadata": {},
   "outputs": [],
   "source": [
    "df.professionals_state.value_counts().sort_values(ascending=False).head(5)"
   ]
  },
  {
   "cell_type": "code",
   "execution_count": null,
   "metadata": {},
   "outputs": [],
   "source": []
  }
 ],
 "metadata": {
  "kernelspec": {
   "display_name": "Python 3",
   "language": "python",
   "name": "python3"
  },
  "language_info": {
   "codemirror_mode": {
    "name": "ipython",
    "version": 3
   },
   "file_extension": ".py",
   "mimetype": "text/x-python",
   "name": "python",
   "nbconvert_exporter": "python",
   "pygments_lexer": "ipython3",
   "version": "3.6.4"
  }
 },
 "nbformat": 4,
 "nbformat_minor": 2
}
