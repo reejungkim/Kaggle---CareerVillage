{
 "cells": [
  {
   "cell_type": "code",
   "execution_count": 1,
   "metadata": {},
   "outputs": [],
   "source": [
    "# Load in libraries\n",
    "\n",
    "import warnings\n",
    "warnings.filterwarnings('ignore')\n",
    "import os\n",
    "\n",
    "#libraries for handling data\n",
    "import pandas as pd\n",
    "import numpy as np\n",
    "import math\n",
    "from sklearn import preprocessing\n",
    "from sklearn.preprocessing import StandardScaler\n",
    "scaler = StandardScaler()\n",
    "from sklearn.preprocessing import MinMaxScaler\n",
    "mmscaler = MinMaxScaler()\n",
    "from sklearn.preprocessing import RobustScaler\n",
    "rscaler = RobustScaler()\n",
    "from sklearn.model_selection import train_test_split, cross_val_score\n",
    "from sklearn.metrics import r2_score, mean_squared_error\n",
    "import datetime\n",
    "from datetime import datetime, time\n",
    "\n",
    "#libraries for data visualization\n",
    "import matplotlib as mpl\n",
    "import matplotlib.pyplot as plt\n",
    "%matplotlib inline\n",
    "import matplotlib.pylab as pylab\n",
    "import seaborn as sns\n",
    "\n",
    "#libaries for modelling\n",
    "# Regression Modelling Algorithms\n",
    "import statsmodels.api as sm\n",
    "#from sklearn.tree import DecisionTreeClassifier\n",
    "from sklearn.linear_model import LinearRegression\n",
    "from sklearn.naive_bayes import GaussianNB\n",
    "from sklearn.svm import SVR\n",
    "from sklearn.ensemble import RandomForestRegressor , GradientBoostingRegressor"
   ]
  },
  {
   "cell_type": "code",
   "execution_count": 2,
   "metadata": {},
   "outputs": [],
   "source": [
    "data_folder = 'C:/Users/reejung/Documents/GitHub/Kaggle - careerVillage'"
   ]
  },
  {
   "cell_type": "code",
   "execution_count": 3,
   "metadata": {},
   "outputs": [
    {
     "name": "stdout",
     "output_type": "stream",
     "text": [
      ".git\n",
      ".ipynb_checkpoints\n",
      "answers.csv\n",
      "comments.csv\n",
      "emails.csv\n",
      "groups.csv\n",
      "group_memberships.csv\n",
      "Kaggle - Career Village\n",
      "matches.csv\n",
      "professionals.csv\n",
      "questions.csv\n",
      "school_memberships.csv\n",
      "students.csv\n",
      "tags.csv\n",
      "tag_questions.csv\n",
      "tag_users.csv\n"
     ]
    }
   ],
   "source": [
    "for file in os.listdir(data_folder):\n",
    "    print(file)\n",
    "    \n",
    "# print(os.listdir('C:/Users/reejung/Documents/GitHub/Kaggle - careerVillage'))"
   ]
  },
  {
   "cell_type": "code",
   "execution_count": 4,
   "metadata": {},
   "outputs": [],
   "source": [
    "groups = pd.read_csv('C:/Users/reejung/Documents/GitHub/Kaggle - careerVillage/groups.csv')\n",
    "group_memberships = pd.read_csv('C:/Users/reejung/Documents/GitHub/Kaggle - careerVillage/group_memberships.csv')\n",
    "school_memberships = pd.read_csv('C:/Users/reejung/Documents/GitHub/Kaggle - careerVillage/school_memberships.csv')\n",
    "tags = pd.read_csv('C:/Users/reejung/Documents/GitHub/Kaggle - careerVillage/tags.csv')\n",
    "answers = pd.read_csv('C:/Users/reejung/Documents/GitHub/Kaggle - careerVillage/answers.csv/answers.csv')\n",
    "emails = pd.read_csv('C:/Users/reejung/Documents/GitHub/Kaggle - careerVillage/emails.csv/emails.csv')\n",
    "comments = pd.read_csv('C:/Users/reejung/Documents/GitHub/Kaggle - careerVillage/comments.csv/comments.csv')\n",
    "questions = pd.read_csv('C:/Users/reejung/Documents/GitHub/Kaggle - careerVillage/questions.csv')\n",
    "matches = pd.read_csv('C:/Users/reejung/Documents/GitHub/Kaggle - careerVillage/matches.csv')\n",
    "professionals = pd.read_csv('C:/Users/reejung/Documents/GitHub/Kaggle - careerVillage/professionals.csv')\n",
    "students = pd.read_csv('C:/Users/reejung/Documents/GitHub/Kaggle - careerVillage/students.csv/students.csv')\n",
    "tag_questions = pd.read_csv('C:/Users/reejung/Documents/GitHub/Kaggle - careerVillage/tag_questions.csv')\n",
    "tag_users =pd.read_csv('C:/Users/reejung/Documents/GitHub/Kaggle - careerVillage/tag_users.csv')"
   ]
  },
  {
   "cell_type": "code",
   "execution_count": 5,
   "metadata": {},
   "outputs": [],
   "source": [
    "df_list = [answers,comments,emails,group_memberships,groups,matches,professionals,questions,school_memberships,students,tag_questions,tag_users,tags]"
   ]
  },
  {
   "cell_type": "code",
   "execution_count": 6,
   "metadata": {},
   "outputs": [
    {
     "data": {
      "text/plain": [
       "13"
      ]
     },
     "execution_count": 6,
     "metadata": {},
     "output_type": "execute_result"
    }
   ],
   "source": [
    "len(df_list)"
   ]
  },
  {
   "cell_type": "code",
   "execution_count": 7,
   "metadata": {},
   "outputs": [
    {
     "name": "stdout",
     "output_type": "stream",
     "text": [
      "Index(['answers_id', 'answers_author_id', 'answers_question_id',\n",
      "       'answers_date_added', 'answers_body'],\n",
      "      dtype='object')\n",
      "Index(['comments_id', 'comments_author_id', 'comments_parent_content_id',\n",
      "       'comments_date_added', 'comments_body'],\n",
      "      dtype='object')\n",
      "Index(['emails_id', 'emails_recipient_id', 'emails_date_sent',\n",
      "       'emails_frequency_level'],\n",
      "      dtype='object')\n",
      "Index(['group_memberships_group_id', 'group_memberships_user_id'], dtype='object')\n",
      "Index(['groups_id', 'groups_group_type'], dtype='object')\n",
      "Index(['matches_email_id', 'matches_question_id'], dtype='object')\n",
      "Index(['professionals_id', 'professionals_location', 'professionals_industry',\n",
      "       'professionals_headline', 'professionals_date_joined'],\n",
      "      dtype='object')\n",
      "Index(['questions_id', 'questions_author_id', 'questions_date_added',\n",
      "       'questions_title', 'questions_body'],\n",
      "      dtype='object')\n",
      "Index(['school_memberships_school_id', 'school_memberships_user_id'], dtype='object')\n",
      "Index(['students_id', 'students_location', 'students_date_joined'], dtype='object')\n",
      "Index(['tag_questions_tag_id', 'tag_questions_question_id'], dtype='object')\n",
      "Index(['tag_users_tag_id', 'tag_users_user_id'], dtype='object')\n",
      "Index(['tags_tag_id', 'tags_tag_name'], dtype='object')\n"
     ]
    }
   ],
   "source": [
    "for table in df_list:\n",
    "    print(table.columns)"
   ]
  },
  {
   "cell_type": "code",
   "execution_count": 8,
   "metadata": {},
   "outputs": [],
   "source": [
    "def get_meta_info_about_columns_and_tables(df_arr, df_name_arr):\n",
    "    tables = []\n",
    "    columns = []\n",
    "    for df, name in zip(df_arr, df_name_arr):\n",
    "        columns.extend(df.columns.values)\n",
    "        tables.extend([name] * len(df.columns))\n",
    "    return pd.DataFrame({'table': tables, 'column': columns})"
   ]
  },
  {
   "cell_type": "code",
   "execution_count": 9,
   "metadata": {},
   "outputs": [],
   "source": [
    "tables_columns_info = get_meta_info_about_columns_and_tables(\n",
    "    [\n",
    "        professionals,\n",
    "        tag_users,\n",
    "        students,\n",
    "        tag_questions,\n",
    "        groups,\n",
    "        emails,\n",
    "        group_memberships,\n",
    "        answers,\n",
    "        comments,\n",
    "        matches,\n",
    "        tags,\n",
    "        questions,\n",
    "        school_memberships\n",
    "    ],\n",
    "    [\n",
    "        'professionals',\n",
    "        'tag_users',\n",
    "        'students',\n",
    "        'tag_questions',\n",
    "        'groups',\n",
    "        'emails',\n",
    "        'group_memberships',\n",
    "        'answers',\n",
    "        'comments',\n",
    "        'matches',\n",
    "        'tags',\n",
    "        'questions',\n",
    "        'school_memberships'\n",
    "    ]\n",
    ")"
   ]
  },
  {
   "cell_type": "code",
   "execution_count": 10,
   "metadata": {},
   "outputs": [
    {
     "data": {
      "text/html": [
       "<div>\n",
       "<style scoped>\n",
       "    .dataframe tbody tr th:only-of-type {\n",
       "        vertical-align: middle;\n",
       "    }\n",
       "\n",
       "    .dataframe tbody tr th {\n",
       "        vertical-align: top;\n",
       "    }\n",
       "\n",
       "    .dataframe thead th {\n",
       "        text-align: right;\n",
       "    }\n",
       "</style>\n",
       "<table border=\"1\" class=\"dataframe\">\n",
       "  <thead>\n",
       "    <tr style=\"text-align: right;\">\n",
       "      <th></th>\n",
       "      <th>table</th>\n",
       "      <th>column</th>\n",
       "    </tr>\n",
       "  </thead>\n",
       "  <tbody>\n",
       "    <tr>\n",
       "      <th>0</th>\n",
       "      <td>professionals</td>\n",
       "      <td>professionals_id</td>\n",
       "    </tr>\n",
       "    <tr>\n",
       "      <th>1</th>\n",
       "      <td>professionals</td>\n",
       "      <td>professionals_location</td>\n",
       "    </tr>\n",
       "    <tr>\n",
       "      <th>2</th>\n",
       "      <td>professionals</td>\n",
       "      <td>professionals_industry</td>\n",
       "    </tr>\n",
       "    <tr>\n",
       "      <th>3</th>\n",
       "      <td>professionals</td>\n",
       "      <td>professionals_headline</td>\n",
       "    </tr>\n",
       "    <tr>\n",
       "      <th>4</th>\n",
       "      <td>professionals</td>\n",
       "      <td>professionals_date_joined</td>\n",
       "    </tr>\n",
       "    <tr>\n",
       "      <th>5</th>\n",
       "      <td>tag_users</td>\n",
       "      <td>tag_users_tag_id</td>\n",
       "    </tr>\n",
       "    <tr>\n",
       "      <th>6</th>\n",
       "      <td>tag_users</td>\n",
       "      <td>tag_users_user_id</td>\n",
       "    </tr>\n",
       "    <tr>\n",
       "      <th>7</th>\n",
       "      <td>students</td>\n",
       "      <td>students_id</td>\n",
       "    </tr>\n",
       "    <tr>\n",
       "      <th>8</th>\n",
       "      <td>students</td>\n",
       "      <td>students_location</td>\n",
       "    </tr>\n",
       "    <tr>\n",
       "      <th>9</th>\n",
       "      <td>students</td>\n",
       "      <td>students_date_joined</td>\n",
       "    </tr>\n",
       "  </tbody>\n",
       "</table>\n",
       "</div>"
      ],
      "text/plain": [
       "           table                     column\n",
       "0  professionals           professionals_id\n",
       "1  professionals     professionals_location\n",
       "2  professionals     professionals_industry\n",
       "3  professionals     professionals_headline\n",
       "4  professionals  professionals_date_joined\n",
       "5      tag_users           tag_users_tag_id\n",
       "6      tag_users          tag_users_user_id\n",
       "7       students                students_id\n",
       "8       students          students_location\n",
       "9       students       students_date_joined"
      ]
     },
     "execution_count": 10,
     "metadata": {},
     "output_type": "execute_result"
    }
   ],
   "source": [
    "tables_columns_info.head(10)"
   ]
  },
  {
   "cell_type": "code",
   "execution_count": 11,
   "metadata": {},
   "outputs": [
    {
     "data": {
      "text/html": [
       "<div>\n",
       "<style scoped>\n",
       "    .dataframe tbody tr th:only-of-type {\n",
       "        vertical-align: middle;\n",
       "    }\n",
       "\n",
       "    .dataframe tbody tr th {\n",
       "        vertical-align: top;\n",
       "    }\n",
       "\n",
       "    .dataframe thead th {\n",
       "        text-align: right;\n",
       "    }\n",
       "</style>\n",
       "<table border=\"1\" class=\"dataframe\">\n",
       "  <thead>\n",
       "    <tr style=\"text-align: right;\">\n",
       "      <th></th>\n",
       "      <th>table</th>\n",
       "      <th>column</th>\n",
       "    </tr>\n",
       "  </thead>\n",
       "  <tbody>\n",
       "    <tr>\n",
       "      <th>12</th>\n",
       "      <td>groups</td>\n",
       "      <td>groups_id</td>\n",
       "    </tr>\n",
       "    <tr>\n",
       "      <th>13</th>\n",
       "      <td>groups</td>\n",
       "      <td>groups_group_type</td>\n",
       "    </tr>\n",
       "    <tr>\n",
       "      <th>18</th>\n",
       "      <td>group_memberships</td>\n",
       "      <td>group_memberships_group_id</td>\n",
       "    </tr>\n",
       "    <tr>\n",
       "      <th>19</th>\n",
       "      <td>group_memberships</td>\n",
       "      <td>group_memberships_user_id</td>\n",
       "    </tr>\n",
       "  </tbody>\n",
       "</table>\n",
       "</div>"
      ],
      "text/plain": [
       "                table                      column\n",
       "12             groups                   groups_id\n",
       "13             groups           groups_group_type\n",
       "18  group_memberships  group_memberships_group_id\n",
       "19  group_memberships   group_memberships_user_id"
      ]
     },
     "execution_count": 11,
     "metadata": {},
     "output_type": "execute_result"
    }
   ],
   "source": [
    "tables_columns_info[tables_columns_info.column.str.contains('group')]"
   ]
  },
  {
   "cell_type": "code",
   "execution_count": 12,
   "metadata": {},
   "outputs": [],
   "source": [
    "professionals['professionals_date_joined'] = pd.to_datetime(professionals['professionals_date_joined'], errors='coerce')\n",
    "students['students_date_joined'] = pd.to_datetime(students['students_date_joined'], errors='coerce')\n",
    "emails.emails_date_sent = pd.to_datetime(emails.emails_date_sent, errors='coerce')\n",
    "answers.answers_date_added = pd.to_datetime(answers.answers_date_added , errors='coerce')\n",
    "comments.comments_date_added = pd.to_datetime(comments.comments_date_added, errors='coerce')\n",
    "questions.questions_date_added = pd.to_datetime(questions.questions_date_added, errors = 'coerce')"
   ]
  },
  {
   "cell_type": "code",
   "execution_count": null,
   "metadata": {},
   "outputs": [],
   "source": []
  },
  {
   "cell_type": "code",
   "execution_count": 13,
   "metadata": {},
   "outputs": [
    {
     "data": {
      "text/html": [
       "<div>\n",
       "<style scoped>\n",
       "    .dataframe tbody tr th:only-of-type {\n",
       "        vertical-align: middle;\n",
       "    }\n",
       "\n",
       "    .dataframe tbody tr th {\n",
       "        vertical-align: top;\n",
       "    }\n",
       "\n",
       "    .dataframe thead th {\n",
       "        text-align: right;\n",
       "    }\n",
       "</style>\n",
       "<table border=\"1\" class=\"dataframe\">\n",
       "  <thead>\n",
       "    <tr style=\"text-align: right;\">\n",
       "      <th></th>\n",
       "      <th>groups_id</th>\n",
       "      <th>groups_group_type</th>\n",
       "    </tr>\n",
       "  </thead>\n",
       "  <tbody>\n",
       "    <tr>\n",
       "      <th>0</th>\n",
       "      <td>eabbdf4029734c848a9da20779637d03</td>\n",
       "      <td>youth program</td>\n",
       "    </tr>\n",
       "    <tr>\n",
       "      <th>1</th>\n",
       "      <td>7080bf8dcf78463bb03e6863887fd715</td>\n",
       "      <td>youth program</td>\n",
       "    </tr>\n",
       "    <tr>\n",
       "      <th>2</th>\n",
       "      <td>bc6fc50a2b444efc8ec47111b290ffb8</td>\n",
       "      <td>youth program</td>\n",
       "    </tr>\n",
       "  </tbody>\n",
       "</table>\n",
       "</div>"
      ],
      "text/plain": [
       "                          groups_id groups_group_type\n",
       "0  eabbdf4029734c848a9da20779637d03     youth program\n",
       "1  7080bf8dcf78463bb03e6863887fd715     youth program\n",
       "2  bc6fc50a2b444efc8ec47111b290ffb8     youth program"
      ]
     },
     "execution_count": 13,
     "metadata": {},
     "output_type": "execute_result"
    }
   ],
   "source": [
    "groups.head(3)"
   ]
  },
  {
   "cell_type": "code",
   "execution_count": 14,
   "metadata": {},
   "outputs": [
    {
     "name": "stdout",
     "output_type": "stream",
     "text": [
      "<class 'pandas.core.frame.DataFrame'>\n",
      "RangeIndex: 49 entries, 0 to 48\n",
      "Data columns (total 2 columns):\n",
      "groups_id            49 non-null object\n",
      "groups_group_type    49 non-null object\n",
      "dtypes: object(2)\n",
      "memory usage: 864.0+ bytes\n"
     ]
    }
   ],
   "source": [
    "groups.info()"
   ]
  },
  {
   "cell_type": "code",
   "execution_count": 15,
   "metadata": {},
   "outputs": [
    {
     "data": {
      "text/plain": [
       "groups_id            0\n",
       "groups_group_type    0\n",
       "dtype: int64"
      ]
     },
     "execution_count": 15,
     "metadata": {},
     "output_type": "execute_result"
    }
   ],
   "source": [
    "groups.isnull().sum()"
   ]
  },
  {
   "cell_type": "code",
   "execution_count": 16,
   "metadata": {
    "scrolled": true
   },
   "outputs": [
    {
     "data": {
      "text/html": [
       "<div>\n",
       "<style scoped>\n",
       "    .dataframe tbody tr th:only-of-type {\n",
       "        vertical-align: middle;\n",
       "    }\n",
       "\n",
       "    .dataframe tbody tr th {\n",
       "        vertical-align: top;\n",
       "    }\n",
       "\n",
       "    .dataframe thead th {\n",
       "        text-align: right;\n",
       "    }\n",
       "</style>\n",
       "<table border=\"1\" class=\"dataframe\">\n",
       "  <thead>\n",
       "    <tr style=\"text-align: right;\">\n",
       "      <th></th>\n",
       "      <th>answers_id</th>\n",
       "      <th>answers_author_id</th>\n",
       "      <th>answers_question_id</th>\n",
       "      <th>answers_date_added</th>\n",
       "      <th>answers_body</th>\n",
       "    </tr>\n",
       "  </thead>\n",
       "  <tbody>\n",
       "    <tr>\n",
       "      <th>0</th>\n",
       "      <td>4e5f01128cae4f6d8fd697cec5dca60c</td>\n",
       "      <td>36ff3b3666df400f956f8335cf53e09e</td>\n",
       "      <td>332a511f1569444485cf7a7a556a5e54</td>\n",
       "      <td>2016-04-29 19:40:14</td>\n",
       "      <td>&lt;p&gt;Hi!&lt;/p&gt;\\n&lt;p&gt;You are asking a very interesti...</td>\n",
       "    </tr>\n",
       "    <tr>\n",
       "      <th>1</th>\n",
       "      <td>ada720538c014e9b8a6dceed09385ee3</td>\n",
       "      <td>2aa47af241bf42a4b874c453f0381bd4</td>\n",
       "      <td>eb80205482e4424cad8f16bc25aa2d9c</td>\n",
       "      <td>2018-05-01 14:19:08</td>\n",
       "      <td>&lt;p&gt;Hi. I joined the Army after I attended coll...</td>\n",
       "    </tr>\n",
       "    <tr>\n",
       "      <th>2</th>\n",
       "      <td>eaa66ef919bc408ab5296237440e323f</td>\n",
       "      <td>cbd8f30613a849bf918aed5c010340be</td>\n",
       "      <td>eb80205482e4424cad8f16bc25aa2d9c</td>\n",
       "      <td>2018-05-02 02:41:02</td>\n",
       "      <td>&lt;p&gt;Dear Priyanka,&lt;/p&gt;&lt;p&gt;Greetings! I have answ...</td>\n",
       "    </tr>\n",
       "    <tr>\n",
       "      <th>3</th>\n",
       "      <td>1a6b3749d391486c9e371fbd1e605014</td>\n",
       "      <td>7e72a630c303442ba92ff00e8ea451df</td>\n",
       "      <td>4ec31632938a40b98909416bdd0decff</td>\n",
       "      <td>2017-05-10 19:00:47</td>\n",
       "      <td>&lt;p&gt;I work for a global company who values high...</td>\n",
       "    </tr>\n",
       "    <tr>\n",
       "      <th>4</th>\n",
       "      <td>5229c514000446d582050f89ebd4e184</td>\n",
       "      <td>17802d94699140b0a0d2995f30c034c6</td>\n",
       "      <td>2f6a9a99d9b24e5baa50d40d0ba50a75</td>\n",
       "      <td>2017-10-13 22:07:33</td>\n",
       "      <td>I agree with Denise. Every single job I've had...</td>\n",
       "    </tr>\n",
       "  </tbody>\n",
       "</table>\n",
       "</div>"
      ],
      "text/plain": [
       "                         answers_id                 answers_author_id  \\\n",
       "0  4e5f01128cae4f6d8fd697cec5dca60c  36ff3b3666df400f956f8335cf53e09e   \n",
       "1  ada720538c014e9b8a6dceed09385ee3  2aa47af241bf42a4b874c453f0381bd4   \n",
       "2  eaa66ef919bc408ab5296237440e323f  cbd8f30613a849bf918aed5c010340be   \n",
       "3  1a6b3749d391486c9e371fbd1e605014  7e72a630c303442ba92ff00e8ea451df   \n",
       "4  5229c514000446d582050f89ebd4e184  17802d94699140b0a0d2995f30c034c6   \n",
       "\n",
       "                answers_question_id  answers_date_added  \\\n",
       "0  332a511f1569444485cf7a7a556a5e54 2016-04-29 19:40:14   \n",
       "1  eb80205482e4424cad8f16bc25aa2d9c 2018-05-01 14:19:08   \n",
       "2  eb80205482e4424cad8f16bc25aa2d9c 2018-05-02 02:41:02   \n",
       "3  4ec31632938a40b98909416bdd0decff 2017-05-10 19:00:47   \n",
       "4  2f6a9a99d9b24e5baa50d40d0ba50a75 2017-10-13 22:07:33   \n",
       "\n",
       "                                        answers_body  \n",
       "0  <p>Hi!</p>\\n<p>You are asking a very interesti...  \n",
       "1  <p>Hi. I joined the Army after I attended coll...  \n",
       "2  <p>Dear Priyanka,</p><p>Greetings! I have answ...  \n",
       "3  <p>I work for a global company who values high...  \n",
       "4  I agree with Denise. Every single job I've had...  "
      ]
     },
     "execution_count": 16,
     "metadata": {},
     "output_type": "execute_result"
    }
   ],
   "source": [
    "answers.head()"
   ]
  },
  {
   "cell_type": "markdown",
   "metadata": {},
   "source": [
    "Students"
   ]
  },
  {
   "cell_type": "code",
   "execution_count": 17,
   "metadata": {},
   "outputs": [
    {
     "data": {
      "text/html": [
       "<div>\n",
       "<style scoped>\n",
       "    .dataframe tbody tr th:only-of-type {\n",
       "        vertical-align: middle;\n",
       "    }\n",
       "\n",
       "    .dataframe tbody tr th {\n",
       "        vertical-align: top;\n",
       "    }\n",
       "\n",
       "    .dataframe thead th {\n",
       "        text-align: right;\n",
       "    }\n",
       "</style>\n",
       "<table border=\"1\" class=\"dataframe\">\n",
       "  <thead>\n",
       "    <tr style=\"text-align: right;\">\n",
       "      <th></th>\n",
       "      <th>students_id</th>\n",
       "      <th>students_location</th>\n",
       "      <th>students_date_joined</th>\n",
       "    </tr>\n",
       "  </thead>\n",
       "  <tbody>\n",
       "    <tr>\n",
       "      <th>0</th>\n",
       "      <td>12a89e96755a4dba83ff03e03043d9c0</td>\n",
       "      <td>NaN</td>\n",
       "      <td>2011-12-16 14:19:24</td>\n",
       "    </tr>\n",
       "    <tr>\n",
       "      <th>1</th>\n",
       "      <td>e37a5990fe354c60be5e87376b08d5e3</td>\n",
       "      <td>NaN</td>\n",
       "      <td>2011-12-27 03:02:44</td>\n",
       "    </tr>\n",
       "    <tr>\n",
       "      <th>2</th>\n",
       "      <td>12b402cceeda43dcb6e12ef9f2d221ea</td>\n",
       "      <td>NaN</td>\n",
       "      <td>2012-01-01 05:00:00</td>\n",
       "    </tr>\n",
       "  </tbody>\n",
       "</table>\n",
       "</div>"
      ],
      "text/plain": [
       "                        students_id students_location students_date_joined\n",
       "0  12a89e96755a4dba83ff03e03043d9c0               NaN  2011-12-16 14:19:24\n",
       "1  e37a5990fe354c60be5e87376b08d5e3               NaN  2011-12-27 03:02:44\n",
       "2  12b402cceeda43dcb6e12ef9f2d221ea               NaN  2012-01-01 05:00:00"
      ]
     },
     "execution_count": 17,
     "metadata": {},
     "output_type": "execute_result"
    }
   ],
   "source": [
    "students.head(3)"
   ]
  },
  {
   "cell_type": "code",
   "execution_count": 18,
   "metadata": {},
   "outputs": [
    {
     "name": "stdout",
     "output_type": "stream",
     "text": [
      "<class 'pandas.core.frame.DataFrame'>\n",
      "RangeIndex: 30971 entries, 0 to 30970\n",
      "Data columns (total 3 columns):\n",
      "students_id             30971 non-null object\n",
      "students_location       28938 non-null object\n",
      "students_date_joined    30971 non-null datetime64[ns]\n",
      "dtypes: datetime64[ns](1), object(2)\n",
      "memory usage: 726.0+ KB\n"
     ]
    }
   ],
   "source": [
    "students.info()"
   ]
  },
  {
   "cell_type": "code",
   "execution_count": 19,
   "metadata": {},
   "outputs": [
    {
     "data": {
      "text/plain": [
       "students_id                0\n",
       "students_location       2033\n",
       "students_date_joined       0\n",
       "dtype: int64"
      ]
     },
     "execution_count": 19,
     "metadata": {},
     "output_type": "execute_result"
    }
   ],
   "source": [
    "students.isnull().sum()"
   ]
  },
  {
   "cell_type": "markdown",
   "metadata": {},
   "source": [
    "Top 10 student locations"
   ]
  },
  {
   "cell_type": "code",
   "execution_count": 20,
   "metadata": {},
   "outputs": [
    {
     "data": {
      "text/plain": [
       "5480"
      ]
     },
     "execution_count": 20,
     "metadata": {},
     "output_type": "execute_result"
    }
   ],
   "source": [
    "students.students_location.nunique()"
   ]
  },
  {
   "cell_type": "code",
   "execution_count": 21,
   "metadata": {},
   "outputs": [],
   "source": [
    "students_locations_top = students.students_location.value_counts().sort_values(ascending = False).head(10)"
   ]
  },
  {
   "cell_type": "code",
   "execution_count": 22,
   "metadata": {},
   "outputs": [
    {
     "data": {
      "text/plain": [
       "New York, New York             1313\n",
       "Bengaluru, Karnataka, India     890\n",
       "Los Angeles, California         663\n",
       "Hyderabad, Telangana, India     597\n",
       "Boston, Massachusetts           557\n",
       "San Francisco, California       550\n",
       "San Jose, California            548\n",
       "Houston, Texas                  476\n",
       "Chennai, Tamil Nadu, India      437\n",
       "Chicago, Illinois               344\n",
       "Name: students_location, dtype: int64"
      ]
     },
     "execution_count": 22,
     "metadata": {},
     "output_type": "execute_result"
    }
   ],
   "source": [
    "students_locations_top"
   ]
  },
  {
   "cell_type": "code",
   "execution_count": 23,
   "metadata": {},
   "outputs": [
    {
     "data": {
      "text/plain": [
       "<matplotlib.axes._subplots.AxesSubplot at 0x23182fba390>"
      ]
     },
     "execution_count": 23,
     "metadata": {},
     "output_type": "execute_result"
    },
    {
     "data": {
      "image/png": "[encoded data removed]",
      "text/plain": [
       "<Figure size 432x288 with 1 Axes>"
      ]
     },
     "metadata": {
      "needs_background": "light"
     },
     "output_type": "display_data"
    }
   ],
   "source": [
    "students_locations_top.plot.bar()"
   ]
  },
  {
   "cell_type": "markdown",
   "metadata": {},
   "source": [
    "groups"
   ]
  },
  {
   "cell_type": "code",
   "execution_count": 24,
   "metadata": {},
   "outputs": [
    {
     "data": {
      "text/plain": [
       "Index(['groups_id', 'groups_group_type'], dtype='object')"
      ]
     },
     "execution_count": 24,
     "metadata": {},
     "output_type": "execute_result"
    }
   ],
   "source": [
    "groups.columns"
   ]
  },
  {
   "cell_type": "code",
   "execution_count": 25,
   "metadata": {},
   "outputs": [
    {
     "data": {
      "text/plain": [
       "array(['youth program', 'cause', 'professional network', 'club',\n",
       "       'competition', 'mentorship program', 'interest group'],\n",
       "      dtype=object)"
      ]
     },
     "execution_count": 25,
     "metadata": {},
     "output_type": "execute_result"
    }
   ],
   "source": [
    "groups.groups_group_type.unique()"
   ]
  },
  {
   "cell_type": "code",
   "execution_count": 26,
   "metadata": {},
   "outputs": [
    {
     "data": {
      "text/plain": [
       "7"
      ]
     },
     "execution_count": 26,
     "metadata": {},
     "output_type": "execute_result"
    }
   ],
   "source": [
    "groups.groups_group_type.nunique()"
   ]
  },
  {
   "cell_type": "code",
   "execution_count": 27,
   "metadata": {},
   "outputs": [
    {
     "data": {
      "text/plain": [
       "youth program           33\n",
       "professional network     8\n",
       "mentorship program       3\n",
       "cause                    2\n",
       "interest group           1\n",
       "club                     1\n",
       "competition              1\n",
       "Name: groups_group_type, dtype: int64"
      ]
     },
     "execution_count": 27,
     "metadata": {},
     "output_type": "execute_result"
    }
   ],
   "source": [
    "groups.groups_group_type.value_counts()"
   ]
  },
  {
   "cell_type": "code",
   "execution_count": 28,
   "metadata": {},
   "outputs": [
    {
     "data": {
      "text/plain": [
       "Text(0,0.5,'')"
      ]
     },
     "execution_count": 28,
     "metadata": {},
     "output_type": "execute_result"
    },
    {
     "data": {
      "image/png": "[encoded data removed]",
      "text/plain": [
       "<Figure size 432x288 with 1 Axes>"
      ]
     },
     "metadata": {},
     "output_type": "display_data"
    }
   ],
   "source": [
    "#groups.groups_group_type.value_counts().sort_values(ascending=True).plot.pie(title='Group Types')\n",
    "groups.groups_group_type.value_counts().sort_values(ascending=True).plot(kind='pie',autopct='%1.1f%%', title='Group Types')\n",
    "plt.xlabel('')\n",
    "plt.ylabel('')"
   ]
  },
  {
   "cell_type": "code",
   "execution_count": 29,
   "metadata": {},
   "outputs": [
    {
     "data": {
      "text/plain": [
       "Text(0,0.5,'group types')"
      ]
     },
     "execution_count": 29,
     "metadata": {},
     "output_type": "execute_result"
    },
    {
     "data": {
      "image/png": "[encoded data removed]",
      "text/plain": [
       "<Figure size 432x288 with 1 Axes>"
      ]
     },
     "metadata": {
      "needs_background": "light"
     },
     "output_type": "display_data"
    }
   ],
   "source": [
    "#groups.groups_group_type.value_counts().sort_values(ascending=True).plot.barh(title='Group Types')\n",
    "groups.groups_group_type.value_counts().sort_values(ascending=True).plot(kind='barh', title='horizoneal bar graph')\n",
    "plt.xlabel('counts')\n",
    "plt.ylabel('group types')"
   ]
  },
  {
   "cell_type": "code",
   "execution_count": 30,
   "metadata": {},
   "outputs": [
    {
     "data": {
      "text/plain": [
       "<matplotlib.axes._subplots.AxesSubplot at 0x2318af3d3c8>"
      ]
     },
     "execution_count": 30,
     "metadata": {},
     "output_type": "execute_result"
    },
    {
     "data": {
      "image/png": "[encoded data removed]",
      "text/plain": [
       "<Figure size 360x360 with 1 Axes>"
      ]
     },
     "metadata": {
      "needs_background": "light"
     },
     "output_type": "display_data"
    }
   ],
   "source": [
    "#groups.groups_group_type.value_counts().plot.bar()\n",
    "#groups.groups_group_type.value_counts().sort_values(ascending=True).plot.bar(title='group types')\n",
    "groups.groups_group_type.value_counts().sort_values(ascending=True).plot(kind='bar', title='group types', figsize=(5, 5))"
   ]
  },
  {
   "cell_type": "code",
   "execution_count": 31,
   "metadata": {
    "scrolled": true
   },
   "outputs": [],
   "source": [
    "temp = groups.groups_group_type.value_counts()\n",
    "temp = temp.reset_index()"
   ]
  },
  {
   "cell_type": "code",
   "execution_count": 32,
   "metadata": {},
   "outputs": [
    {
     "data": {
      "text/html": [
       "<div>\n",
       "<style scoped>\n",
       "    .dataframe tbody tr th:only-of-type {\n",
       "        vertical-align: middle;\n",
       "    }\n",
       "\n",
       "    .dataframe tbody tr th {\n",
       "        vertical-align: top;\n",
       "    }\n",
       "\n",
       "    .dataframe thead th {\n",
       "        text-align: right;\n",
       "    }\n",
       "</style>\n",
       "<table border=\"1\" class=\"dataframe\">\n",
       "  <thead>\n",
       "    <tr style=\"text-align: right;\">\n",
       "      <th></th>\n",
       "      <th>index</th>\n",
       "      <th>groups_group_type</th>\n",
       "    </tr>\n",
       "  </thead>\n",
       "  <tbody>\n",
       "    <tr>\n",
       "      <th>0</th>\n",
       "      <td>youth program</td>\n",
       "      <td>33</td>\n",
       "    </tr>\n",
       "    <tr>\n",
       "      <th>1</th>\n",
       "      <td>professional network</td>\n",
       "      <td>8</td>\n",
       "    </tr>\n",
       "    <tr>\n",
       "      <th>2</th>\n",
       "      <td>mentorship program</td>\n",
       "      <td>3</td>\n",
       "    </tr>\n",
       "    <tr>\n",
       "      <th>3</th>\n",
       "      <td>cause</td>\n",
       "      <td>2</td>\n",
       "    </tr>\n",
       "    <tr>\n",
       "      <th>4</th>\n",
       "      <td>interest group</td>\n",
       "      <td>1</td>\n",
       "    </tr>\n",
       "  </tbody>\n",
       "</table>\n",
       "</div>"
      ],
      "text/plain": [
       "                  index  groups_group_type\n",
       "0         youth program                 33\n",
       "1  professional network                  8\n",
       "2    mentorship program                  3\n",
       "3                 cause                  2\n",
       "4        interest group                  1"
      ]
     },
     "execution_count": 32,
     "metadata": {},
     "output_type": "execute_result"
    }
   ],
   "source": [
    "temp.head()"
   ]
  },
  {
   "cell_type": "code",
   "execution_count": 33,
   "metadata": {},
   "outputs": [
    {
     "data": {
      "text/plain": [
       "<matplotlib.axes._subplots.AxesSubplot at 0x231860b0d30>"
      ]
     },
     "execution_count": 33,
     "metadata": {},
     "output_type": "execute_result"
    },
    {
     "data": {
      "image/png": "[encoded data removed]",
      "text/plain": [
       "<Figure size 432x288 with 1 Axes>"
      ]
     },
     "metadata": {
      "needs_background": "light"
     },
     "output_type": "display_data"
    }
   ],
   "source": [
    "sns.barplot(x=\"groups_group_type\", y='index', data=temp, color=\"cyan\")"
   ]
  },
  {
   "cell_type": "code",
   "execution_count": 34,
   "metadata": {},
   "outputs": [
    {
     "data": {
      "text/html": [
       "<div>\n",
       "<style scoped>\n",
       "    .dataframe tbody tr th:only-of-type {\n",
       "        vertical-align: middle;\n",
       "    }\n",
       "\n",
       "    .dataframe tbody tr th {\n",
       "        vertical-align: top;\n",
       "    }\n",
       "\n",
       "    .dataframe thead th {\n",
       "        text-align: right;\n",
       "    }\n",
       "</style>\n",
       "<table border=\"1\" class=\"dataframe\">\n",
       "  <thead>\n",
       "    <tr style=\"text-align: right;\">\n",
       "      <th></th>\n",
       "      <th>emails_id</th>\n",
       "      <th>emails_recipient_id</th>\n",
       "      <th>emails_date_sent</th>\n",
       "      <th>emails_frequency_level</th>\n",
       "    </tr>\n",
       "  </thead>\n",
       "  <tbody>\n",
       "    <tr>\n",
       "      <th>0</th>\n",
       "      <td>2337714</td>\n",
       "      <td>0c673e046d824ec0ad0ebe012a0673e4</td>\n",
       "      <td>2018-12-07 01:05:40</td>\n",
       "      <td>email_notification_daily</td>\n",
       "    </tr>\n",
       "    <tr>\n",
       "      <th>1</th>\n",
       "      <td>2336077</td>\n",
       "      <td>0c673e046d824ec0ad0ebe012a0673e4</td>\n",
       "      <td>2018-12-06 01:14:15</td>\n",
       "      <td>email_notification_daily</td>\n",
       "    </tr>\n",
       "    <tr>\n",
       "      <th>2</th>\n",
       "      <td>2314660</td>\n",
       "      <td>0c673e046d824ec0ad0ebe012a0673e4</td>\n",
       "      <td>2018-11-17 00:38:27</td>\n",
       "      <td>email_notification_daily</td>\n",
       "    </tr>\n",
       "    <tr>\n",
       "      <th>3</th>\n",
       "      <td>2312639</td>\n",
       "      <td>0c673e046d824ec0ad0ebe012a0673e4</td>\n",
       "      <td>2018-11-16 00:32:19</td>\n",
       "      <td>email_notification_daily</td>\n",
       "    </tr>\n",
       "    <tr>\n",
       "      <th>4</th>\n",
       "      <td>2299700</td>\n",
       "      <td>0c673e046d824ec0ad0ebe012a0673e4</td>\n",
       "      <td>2018-11-08 00:16:40</td>\n",
       "      <td>email_notification_daily</td>\n",
       "    </tr>\n",
       "  </tbody>\n",
       "</table>\n",
       "</div>"
      ],
      "text/plain": [
       "   emails_id               emails_recipient_id    emails_date_sent  \\\n",
       "0    2337714  0c673e046d824ec0ad0ebe012a0673e4 2018-12-07 01:05:40   \n",
       "1    2336077  0c673e046d824ec0ad0ebe012a0673e4 2018-12-06 01:14:15   \n",
       "2    2314660  0c673e046d824ec0ad0ebe012a0673e4 2018-11-17 00:38:27   \n",
       "3    2312639  0c673e046d824ec0ad0ebe012a0673e4 2018-11-16 00:32:19   \n",
       "4    2299700  0c673e046d824ec0ad0ebe012a0673e4 2018-11-08 00:16:40   \n",
       "\n",
       "     emails_frequency_level  \n",
       "0  email_notification_daily  \n",
       "1  email_notification_daily  \n",
       "2  email_notification_daily  \n",
       "3  email_notification_daily  \n",
       "4  email_notification_daily  "
      ]
     },
     "execution_count": 34,
     "metadata": {},
     "output_type": "execute_result"
    }
   ],
   "source": [
    "emails.head()"
   ]
  },
  {
   "cell_type": "code",
   "execution_count": 35,
   "metadata": {},
   "outputs": [
    {
     "data": {
      "text/plain": [
       "Index(['emails_id', 'emails_recipient_id', 'emails_date_sent',\n",
       "       'emails_frequency_level'],\n",
       "      dtype='object')"
      ]
     },
     "execution_count": 35,
     "metadata": {},
     "output_type": "execute_result"
    }
   ],
   "source": [
    "emails.columns"
   ]
  },
  {
   "cell_type": "code",
   "execution_count": 36,
   "metadata": {},
   "outputs": [
    {
     "data": {
      "text/plain": [
       "array(['email_notification_daily', 'email_notification_immediate',\n",
       "       'email_notification_weekly'], dtype=object)"
      ]
     },
     "execution_count": 36,
     "metadata": {},
     "output_type": "execute_result"
    }
   ],
   "source": [
    "emails.emails_frequency_level.unique()"
   ]
  },
  {
   "cell_type": "code",
   "execution_count": 37,
   "metadata": {
    "scrolled": true
   },
   "outputs": [
    {
     "data": {
      "text/html": [
       "<div>\n",
       "<style scoped>\n",
       "    .dataframe tbody tr th:only-of-type {\n",
       "        vertical-align: middle;\n",
       "    }\n",
       "\n",
       "    .dataframe tbody tr th {\n",
       "        vertical-align: top;\n",
       "    }\n",
       "\n",
       "    .dataframe thead th {\n",
       "        text-align: right;\n",
       "    }\n",
       "</style>\n",
       "<table border=\"1\" class=\"dataframe\">\n",
       "  <thead>\n",
       "    <tr style=\"text-align: right;\">\n",
       "      <th></th>\n",
       "      <th>professionals_id</th>\n",
       "      <th>professionals_location</th>\n",
       "      <th>professionals_industry</th>\n",
       "      <th>professionals_headline</th>\n",
       "      <th>professionals_date_joined</th>\n",
       "    </tr>\n",
       "  </thead>\n",
       "  <tbody>\n",
       "    <tr>\n",
       "      <th>0</th>\n",
       "      <td>9ced4ce7519049c0944147afb75a8ce3</td>\n",
       "      <td>NaN</td>\n",
       "      <td>NaN</td>\n",
       "      <td>NaN</td>\n",
       "      <td>2011-10-05 20:35:19</td>\n",
       "    </tr>\n",
       "    <tr>\n",
       "      <th>1</th>\n",
       "      <td>f718dcf6d2ec4cb0a52a9db59d7f9e67</td>\n",
       "      <td>NaN</td>\n",
       "      <td>NaN</td>\n",
       "      <td>NaN</td>\n",
       "      <td>2011-10-05 20:49:21</td>\n",
       "    </tr>\n",
       "    <tr>\n",
       "      <th>2</th>\n",
       "      <td>0c673e046d824ec0ad0ebe012a0673e4</td>\n",
       "      <td>New York, New York</td>\n",
       "      <td>NaN</td>\n",
       "      <td>NaN</td>\n",
       "      <td>2011-10-18 17:31:26</td>\n",
       "    </tr>\n",
       "    <tr>\n",
       "      <th>3</th>\n",
       "      <td>977428d851b24183b223be0eb8619a8c</td>\n",
       "      <td>Boston, Massachusetts</td>\n",
       "      <td>NaN</td>\n",
       "      <td>NaN</td>\n",
       "      <td>2011-11-09 20:39:29</td>\n",
       "    </tr>\n",
       "    <tr>\n",
       "      <th>4</th>\n",
       "      <td>e2d57e5041a44f489288397c9904c2b2</td>\n",
       "      <td>NaN</td>\n",
       "      <td>NaN</td>\n",
       "      <td>NaN</td>\n",
       "      <td>2011-12-10 22:14:44</td>\n",
       "    </tr>\n",
       "  </tbody>\n",
       "</table>\n",
       "</div>"
      ],
      "text/plain": [
       "                   professionals_id professionals_location  \\\n",
       "0  9ced4ce7519049c0944147afb75a8ce3                    NaN   \n",
       "1  f718dcf6d2ec4cb0a52a9db59d7f9e67                    NaN   \n",
       "2  0c673e046d824ec0ad0ebe012a0673e4     New York, New York   \n",
       "3  977428d851b24183b223be0eb8619a8c  Boston, Massachusetts   \n",
       "4  e2d57e5041a44f489288397c9904c2b2                    NaN   \n",
       "\n",
       "  professionals_industry professionals_headline professionals_date_joined  \n",
       "0                    NaN                    NaN       2011-10-05 20:35:19  \n",
       "1                    NaN                    NaN       2011-10-05 20:49:21  \n",
       "2                    NaN                    NaN       2011-10-18 17:31:26  \n",
       "3                    NaN                    NaN       2011-11-09 20:39:29  \n",
       "4                    NaN                    NaN       2011-12-10 22:14:44  "
      ]
     },
     "execution_count": 37,
     "metadata": {},
     "output_type": "execute_result"
    }
   ],
   "source": [
    "professionals.head()"
   ]
  },
  {
   "cell_type": "code",
   "execution_count": 38,
   "metadata": {},
   "outputs": [
    {
     "data": {
      "text/plain": [
       "2582"
      ]
     },
     "execution_count": 38,
     "metadata": {},
     "output_type": "execute_result"
    }
   ],
   "source": [
    "professionals.professionals_location.nunique()"
   ]
  },
  {
   "cell_type": "code",
   "execution_count": 39,
   "metadata": {},
   "outputs": [
    {
     "data": {
      "text/plain": [
       "Farnborough, England, United Kingdom    1\n",
       "Cumberland, Maryland                    1\n",
       "Pittsfield, Massachusetts               1\n",
       "West Windsor Township, New Jersey       1\n",
       "Dudley, England, United Kingdom         1\n",
       "Rest of Hubei, China                    1\n",
       "Olney, Maryland                         1\n",
       "Sheboygan, Wisconsin Area               1\n",
       "Mableton, Georgia                       1\n",
       "Waipahu, Hawaii                         1\n",
       "Name: professionals_location, dtype: int64"
      ]
     },
     "execution_count": 39,
     "metadata": {},
     "output_type": "execute_result"
    }
   ],
   "source": [
    "professionals_location_top = professionals.professionals_location.value_counts().sort_values(ascending=True).head(10)\n",
    "professionals_location_top"
   ]
  },
  {
   "cell_type": "code",
   "execution_count": 40,
   "metadata": {},
   "outputs": [
    {
     "data": {
      "text/plain": [
       "Text(0,0.5,'')"
      ]
     },
     "execution_count": 40,
     "metadata": {},
     "output_type": "execute_result"
    },
    {
     "data": {
      "image/png": "[encoded data removed]",
      "text/plain": [
       "<Figure size 432x288 with 1 Axes>"
      ]
     },
     "metadata": {},
     "output_type": "display_data"
    }
   ],
   "source": [
    "professionals_location_topChart = professionals_location_top.plot.pie(autopct='%1.0f%%')\n",
    "plt.xlabel('')\n",
    "plt.ylabel('')"
   ]
  },
  {
   "cell_type": "code",
   "execution_count": 41,
   "metadata": {
    "scrolled": true
   },
   "outputs": [
    {
     "data": {
      "text/html": [
       "<div>\n",
       "<style scoped>\n",
       "    .dataframe tbody tr th:only-of-type {\n",
       "        vertical-align: middle;\n",
       "    }\n",
       "\n",
       "    .dataframe tbody tr th {\n",
       "        vertical-align: top;\n",
       "    }\n",
       "\n",
       "    .dataframe thead th {\n",
       "        text-align: right;\n",
       "    }\n",
       "</style>\n",
       "<table border=\"1\" class=\"dataframe\">\n",
       "  <thead>\n",
       "    <tr style=\"text-align: right;\">\n",
       "      <th></th>\n",
       "      <th>students_id</th>\n",
       "      <th>students_location</th>\n",
       "      <th>students_date_joined</th>\n",
       "    </tr>\n",
       "  </thead>\n",
       "  <tbody>\n",
       "    <tr>\n",
       "      <th>0</th>\n",
       "      <td>12a89e96755a4dba83ff03e03043d9c0</td>\n",
       "      <td>NaN</td>\n",
       "      <td>2011-12-16 14:19:24</td>\n",
       "    </tr>\n",
       "    <tr>\n",
       "      <th>1</th>\n",
       "      <td>e37a5990fe354c60be5e87376b08d5e3</td>\n",
       "      <td>NaN</td>\n",
       "      <td>2011-12-27 03:02:44</td>\n",
       "    </tr>\n",
       "    <tr>\n",
       "      <th>2</th>\n",
       "      <td>12b402cceeda43dcb6e12ef9f2d221ea</td>\n",
       "      <td>NaN</td>\n",
       "      <td>2012-01-01 05:00:00</td>\n",
       "    </tr>\n",
       "    <tr>\n",
       "      <th>3</th>\n",
       "      <td>a0f431fc79794edcb104f68ce55ab897</td>\n",
       "      <td>NaN</td>\n",
       "      <td>2012-01-01 05:00:00</td>\n",
       "    </tr>\n",
       "    <tr>\n",
       "      <th>4</th>\n",
       "      <td>23aea4702d804bd88d1e9fb28074a1b4</td>\n",
       "      <td>NaN</td>\n",
       "      <td>2012-01-01 05:00:00</td>\n",
       "    </tr>\n",
       "  </tbody>\n",
       "</table>\n",
       "</div>"
      ],
      "text/plain": [
       "                        students_id students_location students_date_joined\n",
       "0  12a89e96755a4dba83ff03e03043d9c0               NaN  2011-12-16 14:19:24\n",
       "1  e37a5990fe354c60be5e87376b08d5e3               NaN  2011-12-27 03:02:44\n",
       "2  12b402cceeda43dcb6e12ef9f2d221ea               NaN  2012-01-01 05:00:00\n",
       "3  a0f431fc79794edcb104f68ce55ab897               NaN  2012-01-01 05:00:00\n",
       "4  23aea4702d804bd88d1e9fb28074a1b4               NaN  2012-01-01 05:00:00"
      ]
     },
     "execution_count": 41,
     "metadata": {},
     "output_type": "execute_result"
    }
   ],
   "source": [
    "students.head()"
   ]
  },
  {
   "cell_type": "code",
   "execution_count": 42,
   "metadata": {},
   "outputs": [
    {
     "data": {
      "text/html": [
       "<div>\n",
       "<style scoped>\n",
       "    .dataframe tbody tr th:only-of-type {\n",
       "        vertical-align: middle;\n",
       "    }\n",
       "\n",
       "    .dataframe tbody tr th {\n",
       "        vertical-align: top;\n",
       "    }\n",
       "\n",
       "    .dataframe thead th {\n",
       "        text-align: right;\n",
       "    }\n",
       "</style>\n",
       "<table border=\"1\" class=\"dataframe\">\n",
       "  <thead>\n",
       "    <tr style=\"text-align: right;\">\n",
       "      <th></th>\n",
       "      <th>school_memberships_school_id</th>\n",
       "      <th>school_memberships_user_id</th>\n",
       "    </tr>\n",
       "  </thead>\n",
       "  <tbody>\n",
       "    <tr>\n",
       "      <th>0</th>\n",
       "      <td>197406</td>\n",
       "      <td>23dce13ca6164a73aec7a3cd56a4884d</td>\n",
       "    </tr>\n",
       "    <tr>\n",
       "      <th>1</th>\n",
       "      <td>197398</td>\n",
       "      <td>23dce13ca6164a73aec7a3cd56a4884d</td>\n",
       "    </tr>\n",
       "    <tr>\n",
       "      <th>2</th>\n",
       "      <td>199821</td>\n",
       "      <td>23dce13ca6164a73aec7a3cd56a4884d</td>\n",
       "    </tr>\n",
       "    <tr>\n",
       "      <th>3</th>\n",
       "      <td>186239</td>\n",
       "      <td>9c5803ae43ca4cf6b27ea85871625116</td>\n",
       "    </tr>\n",
       "    <tr>\n",
       "      <th>4</th>\n",
       "      <td>182063</td>\n",
       "      <td>9c5803ae43ca4cf6b27ea85871625116</td>\n",
       "    </tr>\n",
       "  </tbody>\n",
       "</table>\n",
       "</div>"
      ],
      "text/plain": [
       "   school_memberships_school_id        school_memberships_user_id\n",
       "0                        197406  23dce13ca6164a73aec7a3cd56a4884d\n",
       "1                        197398  23dce13ca6164a73aec7a3cd56a4884d\n",
       "2                        199821  23dce13ca6164a73aec7a3cd56a4884d\n",
       "3                        186239  9c5803ae43ca4cf6b27ea85871625116\n",
       "4                        182063  9c5803ae43ca4cf6b27ea85871625116"
      ]
     },
     "execution_count": 42,
     "metadata": {},
     "output_type": "execute_result"
    }
   ],
   "source": [
    "school_memberships.head()"
   ]
  },
  {
   "cell_type": "code",
   "execution_count": 43,
   "metadata": {},
   "outputs": [
    {
     "data": {
      "text/plain": [
       "2706"
      ]
     },
     "execution_count": 43,
     "metadata": {},
     "output_type": "execute_result"
    }
   ],
   "source": [
    "school_memberships.school_memberships_school_id.nunique()"
   ]
  },
  {
   "cell_type": "code",
   "execution_count": 44,
   "metadata": {},
   "outputs": [
    {
     "data": {
      "text/html": [
       "<div>\n",
       "<style scoped>\n",
       "    .dataframe tbody tr th:only-of-type {\n",
       "        vertical-align: middle;\n",
       "    }\n",
       "\n",
       "    .dataframe tbody tr th {\n",
       "        vertical-align: top;\n",
       "    }\n",
       "\n",
       "    .dataframe thead th {\n",
       "        text-align: right;\n",
       "    }\n",
       "</style>\n",
       "<table border=\"1\" class=\"dataframe\">\n",
       "  <thead>\n",
       "    <tr style=\"text-align: right;\">\n",
       "      <th></th>\n",
       "      <th>questions_id</th>\n",
       "      <th>questions_author_id</th>\n",
       "      <th>questions_date_added</th>\n",
       "      <th>questions_title</th>\n",
       "      <th>questions_body</th>\n",
       "    </tr>\n",
       "  </thead>\n",
       "  <tbody>\n",
       "    <tr>\n",
       "      <th>0</th>\n",
       "      <td>332a511f1569444485cf7a7a556a5e54</td>\n",
       "      <td>8f6f374ffd834d258ab69d376dd998f5</td>\n",
       "      <td>2016-04-26 11:14:26</td>\n",
       "      <td>Teacher   career   question</td>\n",
       "      <td>What  is  a  maths  teacher?   what  is  a  ma...</td>\n",
       "    </tr>\n",
       "    <tr>\n",
       "      <th>1</th>\n",
       "      <td>eb80205482e4424cad8f16bc25aa2d9c</td>\n",
       "      <td>acccbda28edd4362ab03fb8b6fd2d67b</td>\n",
       "      <td>2016-05-20 16:48:25</td>\n",
       "      <td>I want to become an army officer. What can I d...</td>\n",
       "      <td>I am Priyanka from Bangalore . Now am in 10th ...</td>\n",
       "    </tr>\n",
       "    <tr>\n",
       "      <th>2</th>\n",
       "      <td>4ec31632938a40b98909416bdd0decff</td>\n",
       "      <td>f2c179a563024ccc927399ce529094b5</td>\n",
       "      <td>2017-02-08 19:13:38</td>\n",
       "      <td>Will going abroad for your first job increase ...</td>\n",
       "      <td>I'm planning on going abroad for my first job....</td>\n",
       "    </tr>\n",
       "    <tr>\n",
       "      <th>3</th>\n",
       "      <td>2f6a9a99d9b24e5baa50d40d0ba50a75</td>\n",
       "      <td>2c30ffba444e40eabb4583b55233a5a4</td>\n",
       "      <td>2017-09-01 14:05:32</td>\n",
       "      <td>To become a specialist in business  management...</td>\n",
       "      <td>i hear business management is a hard way to ge...</td>\n",
       "    </tr>\n",
       "    <tr>\n",
       "      <th>4</th>\n",
       "      <td>5af8880460c141dbb02971a1a8369529</td>\n",
       "      <td>aa9eb1a2ab184ebbb00dc01ab663428a</td>\n",
       "      <td>2017-09-01 02:36:54</td>\n",
       "      <td>Are there any scholarships out there for stude...</td>\n",
       "      <td>I'm trying to find scholarships for first year...</td>\n",
       "    </tr>\n",
       "  </tbody>\n",
       "</table>\n",
       "</div>"
      ],
      "text/plain": [
       "                       questions_id               questions_author_id  \\\n",
       "0  332a511f1569444485cf7a7a556a5e54  8f6f374ffd834d258ab69d376dd998f5   \n",
       "1  eb80205482e4424cad8f16bc25aa2d9c  acccbda28edd4362ab03fb8b6fd2d67b   \n",
       "2  4ec31632938a40b98909416bdd0decff  f2c179a563024ccc927399ce529094b5   \n",
       "3  2f6a9a99d9b24e5baa50d40d0ba50a75  2c30ffba444e40eabb4583b55233a5a4   \n",
       "4  5af8880460c141dbb02971a1a8369529  aa9eb1a2ab184ebbb00dc01ab663428a   \n",
       "\n",
       "  questions_date_added                                    questions_title  \\\n",
       "0  2016-04-26 11:14:26                        Teacher   career   question   \n",
       "1  2016-05-20 16:48:25  I want to become an army officer. What can I d...   \n",
       "2  2017-02-08 19:13:38  Will going abroad for your first job increase ...   \n",
       "3  2017-09-01 14:05:32  To become a specialist in business  management...   \n",
       "4  2017-09-01 02:36:54  Are there any scholarships out there for stude...   \n",
       "\n",
       "                                      questions_body  \n",
       "0  What  is  a  maths  teacher?   what  is  a  ma...  \n",
       "1  I am Priyanka from Bangalore . Now am in 10th ...  \n",
       "2  I'm planning on going abroad for my first job....  \n",
       "3  i hear business management is a hard way to ge...  \n",
       "4  I'm trying to find scholarships for first year...  "
      ]
     },
     "execution_count": 44,
     "metadata": {},
     "output_type": "execute_result"
    }
   ],
   "source": [
    "questions.head()"
   ]
  },
  {
   "cell_type": "code",
   "execution_count": 45,
   "metadata": {},
   "outputs": [
    {
     "name": "stderr",
     "output_type": "stream",
     "text": [
      "C:\\Users\\reejung\\Anaconda3\\lib\\site-packages\\ipykernel_launcher.py:1: UserWarning: Pandas doesn't allow columns to be created via a new attribute name - see https://pandas.pydata.org/pandas-docs/stable/indexing.html#attribute-access\n",
      "  \"\"\"Entry point for launching an IPython kernel.\n"
     ]
    }
   ],
   "source": [
    "questions.quest_added_year = questions.questions_date_added.dt.year"
   ]
  },
  {
   "cell_type": "code",
   "execution_count": 46,
   "metadata": {},
   "outputs": [
    {
     "data": {
      "text/plain": [
       "<matplotlib.axes._subplots.AxesSubplot at 0x231fdca97f0>"
      ]
     },
     "execution_count": 46,
     "metadata": {},
     "output_type": "execute_result"
    },
    {
     "data": {
      "image/png": "[encoded data removed]",
      "text/plain": [
       "<Figure size 432x288 with 1 Axes>"
      ]
     },
     "metadata": {
      "needs_background": "light"
     },
     "output_type": "display_data"
    }
   ],
   "source": [
    "questions.questions_id.groupby(questions.quest_added_year).count().plot(kind='bar')"
   ]
  },
  {
   "cell_type": "markdown",
   "metadata": {},
   "source": [
    "cumulated number of questions per year"
   ]
  },
  {
   "cell_type": "code",
   "execution_count": 47,
   "metadata": {},
   "outputs": [
    {
     "data": {
      "text/plain": [
       "<matplotlib.axes._subplots.AxesSubplot at 0x23180f07a20>"
      ]
     },
     "execution_count": 47,
     "metadata": {},
     "output_type": "execute_result"
    },
    {
     "data": {
      "image/png": "[encoded data removed]",
      "text/plain": [
       "<Figure size 432x288 with 1 Axes>"
      ]
     },
     "metadata": {
      "needs_background": "light"
     },
     "output_type": "display_data"
    }
   ],
   "source": [
    "np.cumsum(questions.questions_id.groupby(questions.quest_added_year).count()).plot(kind='bar')"
   ]
  },
  {
   "cell_type": "markdown",
   "metadata": {},
   "source": [
    "# Merging data sets"
   ]
  },
  {
   "cell_type": "code",
   "execution_count": 48,
   "metadata": {},
   "outputs": [],
   "source": [
    "df = pd.merge(questions, answers, how='left', left_on='questions_id', right_on='answers_question_id')\n",
    "df = pd.merge(df, tag_questions, how ='left', left_on='questions_id', right_on='tag_questions_question_id')\n",
    "df = pd.merge(df, tags, how='left', left_on='tag_questions_tag_id', right_on='tags_tag_id')\n",
    "df = pd.merge(df, group_memberships, how='left', left_on='answers_author_id', right_on='group_memberships_user_id')\n",
    "df = pd.merge(df, groups,how='left', left_on='group_memberships_group_id', right_on='groups_id')"
   ]
  },
  {
   "cell_type": "code",
   "execution_count": 49,
   "metadata": {},
   "outputs": [
    {
     "data": {
      "text/html": [
       "<div>\n",
       "<style scoped>\n",
       "    .dataframe tbody tr th:only-of-type {\n",
       "        vertical-align: middle;\n",
       "    }\n",
       "\n",
       "    .dataframe tbody tr th {\n",
       "        vertical-align: top;\n",
       "    }\n",
       "\n",
       "    .dataframe thead th {\n",
       "        text-align: right;\n",
       "    }\n",
       "</style>\n",
       "<table border=\"1\" class=\"dataframe\">\n",
       "  <thead>\n",
       "    <tr style=\"text-align: right;\">\n",
       "      <th></th>\n",
       "      <th>0</th>\n",
       "      <th>1</th>\n",
       "      <th>2</th>\n",
       "      <th>3</th>\n",
       "      <th>4</th>\n",
       "    </tr>\n",
       "  </thead>\n",
       "  <tbody>\n",
       "    <tr>\n",
       "      <th>questions_id</th>\n",
       "      <td>332a511f1569444485cf7a7a556a5e54</td>\n",
       "      <td>332a511f1569444485cf7a7a556a5e54</td>\n",
       "      <td>332a511f1569444485cf7a7a556a5e54</td>\n",
       "      <td>eb80205482e4424cad8f16bc25aa2d9c</td>\n",
       "      <td>eb80205482e4424cad8f16bc25aa2d9c</td>\n",
       "    </tr>\n",
       "    <tr>\n",
       "      <th>questions_author_id</th>\n",
       "      <td>8f6f374ffd834d258ab69d376dd998f5</td>\n",
       "      <td>8f6f374ffd834d258ab69d376dd998f5</td>\n",
       "      <td>8f6f374ffd834d258ab69d376dd998f5</td>\n",
       "      <td>acccbda28edd4362ab03fb8b6fd2d67b</td>\n",
       "      <td>acccbda28edd4362ab03fb8b6fd2d67b</td>\n",
       "    </tr>\n",
       "    <tr>\n",
       "      <th>questions_date_added</th>\n",
       "      <td>2016-04-26 11:14:26</td>\n",
       "      <td>2016-04-26 11:14:26</td>\n",
       "      <td>2016-04-26 11:14:26</td>\n",
       "      <td>2016-05-20 16:48:25</td>\n",
       "      <td>2016-05-20 16:48:25</td>\n",
       "    </tr>\n",
       "    <tr>\n",
       "      <th>questions_title</th>\n",
       "      <td>Teacher   career   question</td>\n",
       "      <td>Teacher   career   question</td>\n",
       "      <td>Teacher   career   question</td>\n",
       "      <td>I want to become an army officer. What can I d...</td>\n",
       "      <td>I want to become an army officer. What can I d...</td>\n",
       "    </tr>\n",
       "    <tr>\n",
       "      <th>questions_body</th>\n",
       "      <td>What  is  a  maths  teacher?   what  is  a  ma...</td>\n",
       "      <td>What  is  a  maths  teacher?   what  is  a  ma...</td>\n",
       "      <td>What  is  a  maths  teacher?   what  is  a  ma...</td>\n",
       "      <td>I am Priyanka from Bangalore . Now am in 10th ...</td>\n",
       "      <td>I am Priyanka from Bangalore . Now am in 10th ...</td>\n",
       "    </tr>\n",
       "    <tr>\n",
       "      <th>answers_id</th>\n",
       "      <td>4e5f01128cae4f6d8fd697cec5dca60c</td>\n",
       "      <td>4e5f01128cae4f6d8fd697cec5dca60c</td>\n",
       "      <td>4e5f01128cae4f6d8fd697cec5dca60c</td>\n",
       "      <td>ada720538c014e9b8a6dceed09385ee3</td>\n",
       "      <td>ada720538c014e9b8a6dceed09385ee3</td>\n",
       "    </tr>\n",
       "    <tr>\n",
       "      <th>answers_author_id</th>\n",
       "      <td>36ff3b3666df400f956f8335cf53e09e</td>\n",
       "      <td>36ff3b3666df400f956f8335cf53e09e</td>\n",
       "      <td>36ff3b3666df400f956f8335cf53e09e</td>\n",
       "      <td>2aa47af241bf42a4b874c453f0381bd4</td>\n",
       "      <td>2aa47af241bf42a4b874c453f0381bd4</td>\n",
       "    </tr>\n",
       "    <tr>\n",
       "      <th>answers_question_id</th>\n",
       "      <td>332a511f1569444485cf7a7a556a5e54</td>\n",
       "      <td>332a511f1569444485cf7a7a556a5e54</td>\n",
       "      <td>332a511f1569444485cf7a7a556a5e54</td>\n",
       "      <td>eb80205482e4424cad8f16bc25aa2d9c</td>\n",
       "      <td>eb80205482e4424cad8f16bc25aa2d9c</td>\n",
       "    </tr>\n",
       "    <tr>\n",
       "      <th>answers_date_added</th>\n",
       "      <td>2016-04-29 19:40:14</td>\n",
       "      <td>2016-04-29 19:40:14</td>\n",
       "      <td>2016-04-29 19:40:14</td>\n",
       "      <td>2018-05-01 14:19:08</td>\n",
       "      <td>2018-05-01 14:19:08</td>\n",
       "    </tr>\n",
       "    <tr>\n",
       "      <th>answers_body</th>\n",
       "      <td>&lt;p&gt;Hi!&lt;/p&gt;\\n&lt;p&gt;You are asking a very interesti...</td>\n",
       "      <td>&lt;p&gt;Hi!&lt;/p&gt;\\n&lt;p&gt;You are asking a very interesti...</td>\n",
       "      <td>&lt;p&gt;Hi!&lt;/p&gt;\\n&lt;p&gt;You are asking a very interesti...</td>\n",
       "      <td>&lt;p&gt;Hi. I joined the Army after I attended coll...</td>\n",
       "      <td>&lt;p&gt;Hi. I joined the Army after I attended coll...</td>\n",
       "    </tr>\n",
       "    <tr>\n",
       "      <th>tag_questions_tag_id</th>\n",
       "      <td>14147</td>\n",
       "      <td>27490</td>\n",
       "      <td>21438</td>\n",
       "      <td>27</td>\n",
       "      <td>18016</td>\n",
       "    </tr>\n",
       "    <tr>\n",
       "      <th>tag_questions_question_id</th>\n",
       "      <td>332a511f1569444485cf7a7a556a5e54</td>\n",
       "      <td>332a511f1569444485cf7a7a556a5e54</td>\n",
       "      <td>332a511f1569444485cf7a7a556a5e54</td>\n",
       "      <td>eb80205482e4424cad8f16bc25aa2d9c</td>\n",
       "      <td>eb80205482e4424cad8f16bc25aa2d9c</td>\n",
       "    </tr>\n",
       "    <tr>\n",
       "      <th>tags_tag_id</th>\n",
       "      <td>14147</td>\n",
       "      <td>27490</td>\n",
       "      <td>21438</td>\n",
       "      <td>27</td>\n",
       "      <td>18016</td>\n",
       "    </tr>\n",
       "    <tr>\n",
       "      <th>tags_tag_name</th>\n",
       "      <td>lecture</td>\n",
       "      <td>college</td>\n",
       "      <td>professor</td>\n",
       "      <td>military</td>\n",
       "      <td>army</td>\n",
       "    </tr>\n",
       "    <tr>\n",
       "      <th>group_memberships_group_id</th>\n",
       "      <td>78c15b3814e7417a9da357c0df011194</td>\n",
       "      <td>78c15b3814e7417a9da357c0df011194</td>\n",
       "      <td>78c15b3814e7417a9da357c0df011194</td>\n",
       "      <td>NaN</td>\n",
       "      <td>NaN</td>\n",
       "    </tr>\n",
       "    <tr>\n",
       "      <th>group_memberships_user_id</th>\n",
       "      <td>36ff3b3666df400f956f8335cf53e09e</td>\n",
       "      <td>36ff3b3666df400f956f8335cf53e09e</td>\n",
       "      <td>36ff3b3666df400f956f8335cf53e09e</td>\n",
       "      <td>NaN</td>\n",
       "      <td>NaN</td>\n",
       "    </tr>\n",
       "    <tr>\n",
       "      <th>groups_id</th>\n",
       "      <td>78c15b3814e7417a9da357c0df011194</td>\n",
       "      <td>78c15b3814e7417a9da357c0df011194</td>\n",
       "      <td>78c15b3814e7417a9da357c0df011194</td>\n",
       "      <td>NaN</td>\n",
       "      <td>NaN</td>\n",
       "    </tr>\n",
       "    <tr>\n",
       "      <th>groups_group_type</th>\n",
       "      <td>youth program</td>\n",
       "      <td>youth program</td>\n",
       "      <td>youth program</td>\n",
       "      <td>NaN</td>\n",
       "      <td>NaN</td>\n",
       "    </tr>\n",
       "  </tbody>\n",
       "</table>\n",
       "</div>"
      ],
      "text/plain": [
       "                                                                            0  \\\n",
       "questions_id                                 332a511f1569444485cf7a7a556a5e54   \n",
       "questions_author_id                          8f6f374ffd834d258ab69d376dd998f5   \n",
       "questions_date_added                                      2016-04-26 11:14:26   \n",
       "questions_title                                   Teacher   career   question   \n",
       "questions_body              What  is  a  maths  teacher?   what  is  a  ma...   \n",
       "answers_id                                   4e5f01128cae4f6d8fd697cec5dca60c   \n",
       "answers_author_id                            36ff3b3666df400f956f8335cf53e09e   \n",
       "answers_question_id                          332a511f1569444485cf7a7a556a5e54   \n",
       "answers_date_added                                        2016-04-29 19:40:14   \n",
       "answers_body                <p>Hi!</p>\\n<p>You are asking a very interesti...   \n",
       "tag_questions_tag_id                                                    14147   \n",
       "tag_questions_question_id                    332a511f1569444485cf7a7a556a5e54   \n",
       "tags_tag_id                                                             14147   \n",
       "tags_tag_name                                                         lecture   \n",
       "group_memberships_group_id                   78c15b3814e7417a9da357c0df011194   \n",
       "group_memberships_user_id                    36ff3b3666df400f956f8335cf53e09e   \n",
       "groups_id                                    78c15b3814e7417a9da357c0df011194   \n",
       "groups_group_type                                               youth program   \n",
       "\n",
       "                                                                            1  \\\n",
       "questions_id                                 332a511f1569444485cf7a7a556a5e54   \n",
       "questions_author_id                          8f6f374ffd834d258ab69d376dd998f5   \n",
       "questions_date_added                                      2016-04-26 11:14:26   \n",
       "questions_title                                   Teacher   career   question   \n",
       "questions_body              What  is  a  maths  teacher?   what  is  a  ma...   \n",
       "answers_id                                   4e5f01128cae4f6d8fd697cec5dca60c   \n",
       "answers_author_id                            36ff3b3666df400f956f8335cf53e09e   \n",
       "answers_question_id                          332a511f1569444485cf7a7a556a5e54   \n",
       "answers_date_added                                        2016-04-29 19:40:14   \n",
       "answers_body                <p>Hi!</p>\\n<p>You are asking a very interesti...   \n",
       "tag_questions_tag_id                                                    27490   \n",
       "tag_questions_question_id                    332a511f1569444485cf7a7a556a5e54   \n",
       "tags_tag_id                                                             27490   \n",
       "tags_tag_name                                                         college   \n",
       "group_memberships_group_id                   78c15b3814e7417a9da357c0df011194   \n",
       "group_memberships_user_id                    36ff3b3666df400f956f8335cf53e09e   \n",
       "groups_id                                    78c15b3814e7417a9da357c0df011194   \n",
       "groups_group_type                                               youth program   \n",
       "\n",
       "                                                                            2  \\\n",
       "questions_id                                 332a511f1569444485cf7a7a556a5e54   \n",
       "questions_author_id                          8f6f374ffd834d258ab69d376dd998f5   \n",
       "questions_date_added                                      2016-04-26 11:14:26   \n",
       "questions_title                                   Teacher   career   question   \n",
       "questions_body              What  is  a  maths  teacher?   what  is  a  ma...   \n",
       "answers_id                                   4e5f01128cae4f6d8fd697cec5dca60c   \n",
       "answers_author_id                            36ff3b3666df400f956f8335cf53e09e   \n",
       "answers_question_id                          332a511f1569444485cf7a7a556a5e54   \n",
       "answers_date_added                                        2016-04-29 19:40:14   \n",
       "answers_body                <p>Hi!</p>\\n<p>You are asking a very interesti...   \n",
       "tag_questions_tag_id                                                    21438   \n",
       "tag_questions_question_id                    332a511f1569444485cf7a7a556a5e54   \n",
       "tags_tag_id                                                             21438   \n",
       "tags_tag_name                                                       professor   \n",
       "group_memberships_group_id                   78c15b3814e7417a9da357c0df011194   \n",
       "group_memberships_user_id                    36ff3b3666df400f956f8335cf53e09e   \n",
       "groups_id                                    78c15b3814e7417a9da357c0df011194   \n",
       "groups_group_type                                               youth program   \n",
       "\n",
       "                                                                            3  \\\n",
       "questions_id                                 eb80205482e4424cad8f16bc25aa2d9c   \n",
       "questions_author_id                          acccbda28edd4362ab03fb8b6fd2d67b   \n",
       "questions_date_added                                      2016-05-20 16:48:25   \n",
       "questions_title             I want to become an army officer. What can I d...   \n",
       "questions_body              I am Priyanka from Bangalore . Now am in 10th ...   \n",
       "answers_id                                   ada720538c014e9b8a6dceed09385ee3   \n",
       "answers_author_id                            2aa47af241bf42a4b874c453f0381bd4   \n",
       "answers_question_id                          eb80205482e4424cad8f16bc25aa2d9c   \n",
       "answers_date_added                                        2018-05-01 14:19:08   \n",
       "answers_body                <p>Hi. I joined the Army after I attended coll...   \n",
       "tag_questions_tag_id                                                       27   \n",
       "tag_questions_question_id                    eb80205482e4424cad8f16bc25aa2d9c   \n",
       "tags_tag_id                                                                27   \n",
       "tags_tag_name                                                        military   \n",
       "group_memberships_group_id                                                NaN   \n",
       "group_memberships_user_id                                                 NaN   \n",
       "groups_id                                                                 NaN   \n",
       "groups_group_type                                                         NaN   \n",
       "\n",
       "                                                                            4  \n",
       "questions_id                                 eb80205482e4424cad8f16bc25aa2d9c  \n",
       "questions_author_id                          acccbda28edd4362ab03fb8b6fd2d67b  \n",
       "questions_date_added                                      2016-05-20 16:48:25  \n",
       "questions_title             I want to become an army officer. What can I d...  \n",
       "questions_body              I am Priyanka from Bangalore . Now am in 10th ...  \n",
       "answers_id                                   ada720538c014e9b8a6dceed09385ee3  \n",
       "answers_author_id                            2aa47af241bf42a4b874c453f0381bd4  \n",
       "answers_question_id                          eb80205482e4424cad8f16bc25aa2d9c  \n",
       "answers_date_added                                        2018-05-01 14:19:08  \n",
       "answers_body                <p>Hi. I joined the Army after I attended coll...  \n",
       "tag_questions_tag_id                                                    18016  \n",
       "tag_questions_question_id                    eb80205482e4424cad8f16bc25aa2d9c  \n",
       "tags_tag_id                                                             18016  \n",
       "tags_tag_name                                                            army  \n",
       "group_memberships_group_id                                                NaN  \n",
       "group_memberships_user_id                                                 NaN  \n",
       "groups_id                                                                 NaN  \n",
       "groups_group_type                                                         NaN  "
      ]
     },
     "execution_count": 49,
     "metadata": {},
     "output_type": "execute_result"
    }
   ],
   "source": [
    "df.head().transpose()"
   ]
  },
  {
   "cell_type": "code",
   "execution_count": 50,
   "metadata": {},
   "outputs": [
    {
     "name": "stderr",
     "output_type": "stream",
     "text": [
      "C:\\Users\\reejung\\Anaconda3\\lib\\site-packages\\ipykernel_launcher.py:2: UserWarning: Pandas doesn't allow columns to be created via a new attribute name - see https://pandas.pydata.org/pandas-docs/stable/indexing.html#attribute-access\n",
      "  \n"
     ]
    }
   ],
   "source": [
    "df.questions_date_added = pd.to_datetime(df.questions_date_added, errors='coerce')\n",
    "df.quest_added_date = df.questions_date_added.dt.date"
   ]
  },
  {
   "cell_type": "code",
   "execution_count": 51,
   "metadata": {
    "scrolled": false
   },
   "outputs": [
    {
     "data": {
      "text/plain": [
       "<matplotlib.axes._subplots.AxesSubplot at 0x2318bdf0dd8>"
      ]
     },
     "execution_count": 51,
     "metadata": {},
     "output_type": "execute_result"
    },
    {
     "data": {
      "image/png": "[encoded data removed]",
      "text/plain": [
       "<Figure size 432x288 with 1 Axes>"
      ]
     },
     "metadata": {
      "needs_background": "light"
     },
     "output_type": "display_data"
    }
   ],
   "source": [
    "g1 =df.questions_id.groupby(df.quest_added_date).count()\n",
    "g1.plot()"
   ]
  },
  {
   "cell_type": "code",
   "execution_count": 52,
   "metadata": {},
   "outputs": [
    {
     "data": {
      "text/plain": [
       "<matplotlib.axes._subplots.AxesSubplot at 0x23181a60550>"
      ]
     },
     "execution_count": 52,
     "metadata": {},
     "output_type": "execute_result"
    },
    {
     "data": {
      "image/png": "[encoded data removed]",
      "text/plain": [
       "<Figure size 432x288 with 1 Axes>"
      ]
     },
     "metadata": {
      "needs_background": "light"
     },
     "output_type": "display_data"
    }
   ],
   "source": [
    "np.cumsum(g1).plot(kind='line')"
   ]
  },
  {
   "cell_type": "code",
   "execution_count": 53,
   "metadata": {},
   "outputs": [
    {
     "data": {
      "text/plain": [
       "7091"
      ]
     },
     "execution_count": 53,
     "metadata": {},
     "output_type": "execute_result"
    }
   ],
   "source": [
    "df.tags_tag_name.nunique()"
   ]
  },
  {
   "cell_type": "code",
   "execution_count": 54,
   "metadata": {},
   "outputs": [],
   "source": [
    "top_tags = df.questions_id.groupby(df.tags_tag_name).count().sort_values(ascending=False).head(10)"
   ]
  },
  {
   "cell_type": "code",
   "execution_count": 55,
   "metadata": {
    "scrolled": true
   },
   "outputs": [
    {
     "data": {
      "text/plain": [
       "<matplotlib.axes._subplots.AxesSubplot at 0x23182ff8fd0>"
      ]
     },
     "execution_count": 55,
     "metadata": {},
     "output_type": "execute_result"
    },
    {
     "data": {
      "image/png": "[encoded data removed]",
      "text/plain": [
       "<Figure size 432x288 with 1 Axes>"
      ]
     },
     "metadata": {
      "needs_background": "light"
     },
     "output_type": "display_data"
    }
   ],
   "source": [
    "top_tags.plot.bar()"
   ]
  },
  {
   "cell_type": "markdown",
   "metadata": {},
   "source": [
    "See how long it takes the questions to be answered"
   ]
  },
  {
   "cell_type": "code",
   "execution_count": 56,
   "metadata": {},
   "outputs": [],
   "source": [
    "df['duration_answers'] = (pd.to_datetime(df.answers_date_added) - pd.to_datetime(df.questions_date_added) ).dt.days"
   ]
  },
  {
   "cell_type": "code",
   "execution_count": 57,
   "metadata": {},
   "outputs": [
    {
     "data": {
      "text/plain": [
       "count    187378.000000\n",
       "mean        145.721819\n",
       "std         241.196327\n",
       "min          -1.000000\n",
       "25%           1.000000\n",
       "50%          23.000000\n",
       "75%         189.000000\n",
       "max        2562.000000\n",
       "Name: duration_answers, dtype: float64"
      ]
     },
     "execution_count": 57,
     "metadata": {},
     "output_type": "execute_result"
    }
   ],
   "source": [
    "df.duration_answers.describe()"
   ]
  },
  {
   "cell_type": "code",
   "execution_count": 58,
   "metadata": {},
   "outputs": [
    {
     "data": {
      "text/html": [
       "<div>\n",
       "<style scoped>\n",
       "    .dataframe tbody tr th:only-of-type {\n",
       "        vertical-align: middle;\n",
       "    }\n",
       "\n",
       "    .dataframe tbody tr th {\n",
       "        vertical-align: top;\n",
       "    }\n",
       "\n",
       "    .dataframe thead th {\n",
       "        text-align: right;\n",
       "    }\n",
       "</style>\n",
       "<table border=\"1\" class=\"dataframe\">\n",
       "  <thead>\n",
       "    <tr style=\"text-align: right;\">\n",
       "      <th></th>\n",
       "      <th>count</th>\n",
       "      <th>mean</th>\n",
       "      <th>std</th>\n",
       "      <th>min</th>\n",
       "      <th>25%</th>\n",
       "      <th>50%</th>\n",
       "      <th>75%</th>\n",
       "      <th>max</th>\n",
       "    </tr>\n",
       "    <tr>\n",
       "      <th>groups_group_type</th>\n",
       "      <th></th>\n",
       "      <th></th>\n",
       "      <th></th>\n",
       "      <th></th>\n",
       "      <th></th>\n",
       "      <th></th>\n",
       "      <th></th>\n",
       "      <th></th>\n",
       "    </tr>\n",
       "  </thead>\n",
       "  <tbody>\n",
       "    <tr>\n",
       "      <th>cause</th>\n",
       "      <td>4576.0</td>\n",
       "      <td>124.492570</td>\n",
       "      <td>200.700976</td>\n",
       "      <td>0.0</td>\n",
       "      <td>1.0</td>\n",
       "      <td>21.0</td>\n",
       "      <td>156.25</td>\n",
       "      <td>958.0</td>\n",
       "    </tr>\n",
       "    <tr>\n",
       "      <th>club</th>\n",
       "      <td>167.0</td>\n",
       "      <td>354.790419</td>\n",
       "      <td>501.529910</td>\n",
       "      <td>0.0</td>\n",
       "      <td>18.0</td>\n",
       "      <td>199.0</td>\n",
       "      <td>483.00</td>\n",
       "      <td>2430.0</td>\n",
       "    </tr>\n",
       "    <tr>\n",
       "      <th>competition</th>\n",
       "      <td>266.0</td>\n",
       "      <td>79.383459</td>\n",
       "      <td>158.560564</td>\n",
       "      <td>0.0</td>\n",
       "      <td>2.0</td>\n",
       "      <td>5.0</td>\n",
       "      <td>36.75</td>\n",
       "      <td>602.0</td>\n",
       "    </tr>\n",
       "    <tr>\n",
       "      <th>interest group</th>\n",
       "      <td>111.0</td>\n",
       "      <td>219.621622</td>\n",
       "      <td>176.602587</td>\n",
       "      <td>0.0</td>\n",
       "      <td>101.0</td>\n",
       "      <td>139.0</td>\n",
       "      <td>356.00</td>\n",
       "      <td>552.0</td>\n",
       "    </tr>\n",
       "    <tr>\n",
       "      <th>mentorship program</th>\n",
       "      <td>302.0</td>\n",
       "      <td>300.569536</td>\n",
       "      <td>377.468100</td>\n",
       "      <td>0.0</td>\n",
       "      <td>43.0</td>\n",
       "      <td>189.0</td>\n",
       "      <td>400.00</td>\n",
       "      <td>2430.0</td>\n",
       "    </tr>\n",
       "    <tr>\n",
       "      <th>professional network</th>\n",
       "      <td>1251.0</td>\n",
       "      <td>210.270983</td>\n",
       "      <td>254.746759</td>\n",
       "      <td>0.0</td>\n",
       "      <td>8.0</td>\n",
       "      <td>98.0</td>\n",
       "      <td>325.00</td>\n",
       "      <td>1449.0</td>\n",
       "    </tr>\n",
       "    <tr>\n",
       "      <th>youth program</th>\n",
       "      <td>25128.0</td>\n",
       "      <td>167.695320</td>\n",
       "      <td>299.762578</td>\n",
       "      <td>0.0</td>\n",
       "      <td>0.0</td>\n",
       "      <td>16.0</td>\n",
       "      <td>195.00</td>\n",
       "      <td>2430.0</td>\n",
       "    </tr>\n",
       "  </tbody>\n",
       "</table>\n",
       "</div>"
      ],
      "text/plain": [
       "                        count        mean         std  min    25%    50%  \\\n",
       "groups_group_type                                                          \n",
       "cause                  4576.0  124.492570  200.700976  0.0    1.0   21.0   \n",
       "club                    167.0  354.790419  501.529910  0.0   18.0  199.0   \n",
       "competition             266.0   79.383459  158.560564  0.0    2.0    5.0   \n",
       "interest group          111.0  219.621622  176.602587  0.0  101.0  139.0   \n",
       "mentorship program      302.0  300.569536  377.468100  0.0   43.0  189.0   \n",
       "professional network   1251.0  210.270983  254.746759  0.0    8.0   98.0   \n",
       "youth program         25128.0  167.695320  299.762578  0.0    0.0   16.0   \n",
       "\n",
       "                         75%     max  \n",
       "groups_group_type                     \n",
       "cause                 156.25   958.0  \n",
       "club                  483.00  2430.0  \n",
       "competition            36.75   602.0  \n",
       "interest group        356.00   552.0  \n",
       "mentorship program    400.00  2430.0  \n",
       "professional network  325.00  1449.0  \n",
       "youth program         195.00  2430.0  "
      ]
     },
     "execution_count": 58,
     "metadata": {},
     "output_type": "execute_result"
    }
   ],
   "source": [
    "df.duration_answers.groupby(df.groups_group_type).describe()"
   ]
  },
  {
   "cell_type": "code",
   "execution_count": 59,
   "metadata": {},
   "outputs": [
    {
     "data": {
      "text/plain": [
       "<matplotlib.axes._subplots.AxesSubplot at 0x2318305bcc0>"
      ]
     },
     "execution_count": 59,
     "metadata": {},
     "output_type": "execute_result"
    },
    {
     "data": {
      "image/png": "[encoded data removed]",
      "text/plain": [
       "<Figure size 432x288 with 1 Axes>"
      ]
     },
     "metadata": {
      "needs_background": "light"
     },
     "output_type": "display_data"
    }
   ],
   "source": [
    "sns.distplot(df.duration_answers.dropna())"
   ]
  },
  {
   "cell_type": "code",
   "execution_count": 60,
   "metadata": {},
   "outputs": [
    {
     "data": {
      "text/plain": [
       "<matplotlib.axes._subplots.AxesSubplot at 0x23183001a90>"
      ]
     },
     "execution_count": 60,
     "metadata": {},
     "output_type": "execute_result"
    },
    {
     "data": {
      "image/png": "[encoded data removed]",
      "text/plain": [
       "<Figure size 432x288 with 1 Axes>"
      ]
     },
     "metadata": {
      "needs_background": "light"
     },
     "output_type": "display_data"
    }
   ],
   "source": [
    "sns.kdeplot(df.duration_answers.dropna(), shade=True, color='r')"
   ]
  },
  {
   "cell_type": "code",
   "execution_count": 61,
   "metadata": {
    "scrolled": true
   },
   "outputs": [
    {
     "data": {
      "text/plain": [
       "<matplotlib.axes._subplots.AxesSubplot at 0x23183675208>"
      ]
     },
     "execution_count": 61,
     "metadata": {},
     "output_type": "execute_result"
    },
    {
     "data": {
      "image/png": "[encoded data removed]",
      "text/plain": [
       "<Figure size 432x288 with 1 Axes>"
      ]
     },
     "metadata": {
      "needs_background": "light"
     },
     "output_type": "display_data"
    }
   ],
   "source": [
    "sns.kdeplot(df.duration_answers.dropna()[df.tags_tag_name=='college'], label='college', shade=False)\n",
    "sns.kdeplot(df.duration_answers.dropna()[df.tags_tag_name=='career'], label='career', shade=False)\n",
    "sns.kdeplot(df.duration_answers.dropna()[df.tags_tag_name=='engineering'], label='engineering', shade=False)"
   ]
  },
  {
   "cell_type": "code",
   "execution_count": 62,
   "metadata": {},
   "outputs": [
    {
     "data": {
      "text/plain": [
       "<matplotlib.axes._subplots.AxesSubplot at 0x231836c7940>"
      ]
     },
     "execution_count": 62,
     "metadata": {},
     "output_type": "execute_result"
    },
    {
     "data": {
      "image/png": "[encoded data removed]",
      "text/plain": [
       "<Figure size 432x288 with 1 Axes>"
      ]
     },
     "metadata": {
      "needs_background": "light"
     },
     "output_type": "display_data"
    }
   ],
   "source": [
    "sns.kdeplot(df.duration_answers.dropna()[df.groups_group_type=='competition'], label='competition')\n",
    "#sns.kdeplot(df.duration_answers.dropna()[df.groups_group_type=='youth program'], label='youth program')\n",
    "sns.kdeplot(df.duration_answers.dropna()[df.groups_group_type=='mentorship program'], label='mentorship program')"
   ]
  },
  {
   "cell_type": "code",
   "execution_count": 65,
   "metadata": {},
   "outputs": [
    {
     "data": {
      "text/plain": [
       "<seaborn.axisgrid.FacetGrid at 0x231836f9e80>"
      ]
     },
     "execution_count": 65,
     "metadata": {},
     "output_type": "execute_result"
    },
    {
     "data": {
      "image/png": "[encoded data removed]",
      "text/plain": [
       "<Figure size 360x360 with 1 Axes>"
      ]
     },
     "metadata": {
      "needs_background": "light"
     },
     "output_type": "display_data"
    }
   ],
   "source": [
    "sns.catplot(x=\"groups_group_type\", y=\"duration_answers\",kind='box', data=df)"
   ]
  },
  {
   "cell_type": "code",
   "execution_count": 66,
   "metadata": {},
   "outputs": [
    {
     "data": {
      "text/plain": [
       "<seaborn.axisgrid.FacetGrid at 0x231837cc780>"
      ]
     },
     "execution_count": 66,
     "metadata": {},
     "output_type": "execute_result"
    },
    {
     "data": {
      "image/png": "[encoded data removed]",
      "text/plain": [
       "<Figure size 360x360 with 1 Axes>"
      ]
     },
     "metadata": {
      "needs_background": "light"
     },
     "output_type": "display_data"
    }
   ],
   "source": [
    "sns.catplot(x=\"groups_group_type\", y=\"duration_answers\", kind='bar', data=df)"
   ]
  },
  {
   "cell_type": "code",
   "execution_count": null,
   "metadata": {},
   "outputs": [],
   "source": []
  }
 ],
 "metadata": {
  "kernelspec": {
   "display_name": "Python 3",
   "language": "python",
   "name": "python3"
  },
  "language_info": {
   "codemirror_mode": {
    "name": "ipython",
    "version": 3
   },
   "file_extension": ".py",
   "mimetype": "text/x-python",
   "name": "python",
   "nbconvert_exporter": "python",
   "pygments_lexer": "ipython3",
   "version": "3.6.4"
  }
 },
 "nbformat": 4,
 "nbformat_minor": 2
}
